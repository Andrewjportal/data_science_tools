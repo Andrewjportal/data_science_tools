{
 "cells": [
  {
   "cell_type": "code",
   "execution_count": 184,
   "metadata": {},
   "outputs": [],
   "source": [
    "#part together\n",
    "def dna_analyzer(dna_strands,codon):\n",
    "    return count_amino_acids(common_superstring(refine_list(dna_strands)),codon)\n",
    "    "
   ]
  },
  {
   "cell_type": "code",
   "execution_count": 182,
   "metadata": {},
   "outputs": [],
   "source": [
    "#part 1\n",
    "def refine_list(strands):\n",
    " \n",
    "    y=['A','G','C','T']\n",
    "    ref_list=[x for x in strands if all(z in y for z in x )]\n",
    "    ref_list=[x for x in ref_list if len(x) > 10 and len(x)<100]\n",
    "    \n",
    "    \n",
    "    if len(ref_list)>2:\n",
    "        return ref_list\n",
    "    else:\n",
    "        return []"
   ]
  },
  {
   "cell_type": "code",
   "execution_count": 213,
   "metadata": {},
   "outputs": [],
   "source": [
    "#part 2\n",
    "from itertools import permutations\n",
    "def common_superstring(strands):\n",
    "   \"\"\"\n",
    "    shortest strand that contains all strands.\n",
    "   \"\"\"\n",
    "   return min((overlap(p) for p in permutations(strands)), key=len)\n",
    "\n",
    "def groups(s):\n",
    "    \"\"\"\n",
    "    list of all prefixes\n",
    "    \"\"\"\n",
    "    return [s[:i+1] for i in range(len(s))]\n",
    "   \n",
    "\n",
    "\n",
    "def overlap(strands):\n",
    "    \"\"\"\n",
    "    concatenate strands wile removing overlaps \n",
    "    \"\"\"\n",
    "    ret = ''\n",
    "    for s in strands:\n",
    "        if s in ret:\n",
    "            continue\n",
    "        for i, group in reversed(list(enumerate(groups(s)))):\n",
    "            if ret.endswith(group):\n",
    "                ret += s[i+1:]\n",
    "                break\n",
    "        else:\n",
    "            ret += s\n",
    "    return ret\n"
   ]
  },
  {
   "cell_type": "code",
   "execution_count": 217,
   "metadata": {},
   "outputs": [],
   "source": [
    "#part 3\n",
    "def count_amino_acids(s,codon):\n",
    "    amino_acids = ([s[i:i+3] for i in range(0, len(s), 3)])\n",
    "    amino_acids = [codon.get(item,item) for item in amino_acids ]\n",
    "    amino_acids.sort()\n",
    "    \n",
    "    counts = {}\n",
    "    for i in amino_acids:\n",
    "        counts[i] = counts.get(i, 0) + 1\n",
    "    stringy=\" \".join([\":\".join([key, str(val)]) for key, val in counts.items()])\n",
    "    stringy=stringy.replace(\" \",'/n')\n",
    "    \n",
    "  \n",
    "    \n",
    "    return stringy\n",
    "    #return counts\n",
    "   \n"
   ]
  },
  {
   "cell_type": "code",
   "execution_count": 156,
   "metadata": {},
   "outputs": [],
   "source": [
    "refine_list(s)"
   ]
  },
  {
   "cell_type": "code",
   "execution_count": 157,
   "metadata": {},
   "outputs": [],
   "source": [
    "h=refined_list(s)[0]"
   ]
  },
  {
   "cell_type": "code",
   "execution_count": 158,
   "metadata": {},
   "outputs": [
    {
     "data": {
      "text/plain": [
       "'AGT'"
      ]
     },
     "execution_count": 158,
     "metadata": {},
     "output_type": "execute_result"
    }
   ],
   "source": [
    "h[0:3]"
   ]
  },
  {
   "cell_type": "code",
   "execution_count": 160,
   "metadata": {},
   "outputs": [],
   "source": [
    "'AAACCCAATTTTTACACAGCTCTGGGCCCAGTGTGGGGGGGGG'"
   ]
  },
  {
   "cell_type": "code",
   "execution_count": 214,
   "metadata": {},
   "outputs": [
    {
     "data": {
      "text/plain": [
       "'AAACCCAATTTACACAGCTGGGCCCAGTGGGGGGGGG'"
      ]
     },
     "execution_count": 214,
     "metadata": {},
     "output_type": "execute_result"
    }
   ],
   "source": [
    "common_superstring(x)"
   ]
  },
  {
   "cell_type": "code",
   "execution_count": 212,
   "metadata": {},
   "outputs": [],
   "source": [
    "codon_map={\n",
    "    'TTT': 'F',\n",
    "    'TTC': 'F',\n",
    "    'TTA': 'L',\n",
    "    'TTG': 'L',\n",
    "    'TCT': 'S',\n",
    "    'TCC': 'S',\n",
    "    'TCA': 'S',\n",
    "    'TCG': 'S',\n",
    "    'TAT': 'Y',\n",
    "    'TAC': 'Y',\n",
    "    'TAA': 'X',\n",
    "    'TAG': 'X',\n",
    "    'TGT': 'C',\n",
    "    'TGC': 'C',\n",
    "    'TGA': 'X',\n",
    "    'TGG': 'W',\n",
    "    'CTT': 'L',\n",
    "    'CTC': 'L',\n",
    "    'CTA': 'L',\n",
    "    'CTG': 'L',\n",
    "    'CCT': 'P',\n",
    "    'CCC': 'P',\n",
    "    'CCA': 'P',\n",
    "    'CCG': 'P',\n",
    "    'CAT': 'H',\n",
    "    'CAC': 'H',\n",
    "    'CAA': 'Q',\n",
    "    'CAG': 'Q',\n",
    "    'CGT': 'R',\n",
    "    'CGC': 'R',\n",
    "    'CGA': 'R',\n",
    "    'CGG': 'R',\n",
    "    'ATT': 'I',\n",
    "    'ATC': 'I',\n",
    "    'ATA': 'I',\n",
    "    'ATG': 'M',\n",
    "    'ACT': 'T',\n",
    "    'ACC': 'T',\n",
    "    'ACA': 'T',\n",
    "    'ACG': 'T',\n",
    "    'AAT': 'N',\n",
    "    'AAC': 'N',\n",
    "    'AAA': 'K',\n",
    "    'AAG': 'K',\n",
    "    'AGT': 'S',\n",
    "    'AGC': 'S',\n",
    "    'AGA': 'R',\n",
    "    'AGG': 'R',\n",
    "    'GTT': 'V',\n",
    "    'GTC': 'V',\n",
    "    'GTA': 'V',\n",
    "    'GTG': 'V',\n",
    "    'GCT': 'A',\n",
    "    'GCC': 'A',\n",
    "    'GCA': 'A',\n",
    "    'GCG': 'A',\n",
    "    'GAT': 'D',\n",
    "    'GAC': 'D',\n",
    "    'GAA': 'E',\n",
    "    'GAG': 'E',\n",
    "    'GGT': 'G',\n",
    "    'GGC': 'G',\n",
    "    'GGA': 'G',\n",
    "    'GGG': 'G',}"
   ]
  },
  {
   "cell_type": "code",
   "execution_count": 148,
   "metadata": {},
   "outputs": [
    {
     "name": "stdout",
     "output_type": "stream",
     "text": [
      "A:1\n",
      "G:3\n",
      "H:1\n",
      "K:1\n",
      "L:1\n",
      "N:1\n",
      "P:1\n",
      "Q:1\n",
      "S:1\n",
      "W:2\n"
     ]
    }
   ],
   "source": [
    "count_amino_acids(p,codon_map)"
   ]
  },
  {
   "cell_type": "code",
   "execution_count": 92,
   "metadata": {},
   "outputs": [],
   "source": [
    "data=count_amino_acids(p)"
   ]
  },
  {
   "cell_type": "code",
   "execution_count": 103,
   "metadata": {},
   "outputs": [],
   "source": [
    "stringy=\" \".join([\":\".join([key, str(val)]) for key, val in data.items()])"
   ]
  },
  {
   "cell_type": "code",
   "execution_count": 203,
   "metadata": {},
   "outputs": [
    {
     "ename": "SyntaxError",
     "evalue": "unexpected character after line continuation character (<ipython-input-203-af06442b0a14>, line 1)",
     "output_type": "error",
     "traceback": [
      "\u001b[0;36m  File \u001b[0;32m\"<ipython-input-203-af06442b0a14>\"\u001b[0;36m, line \u001b[0;32m1\u001b[0m\n\u001b[0;31m    stringy=stringy.replace(' ',\\)\u001b[0m\n\u001b[0m                                  ^\u001b[0m\n\u001b[0;31mSyntaxError\u001b[0m\u001b[0;31m:\u001b[0m unexpected character after line continuation character\n"
     ]
    }
   ],
   "source": [
    "stringy=stringy.replace(' ',\\)"
   ]
  },
  {
   "cell_type": "code",
   "execution_count": 197,
   "metadata": {},
   "outputs": [],
   "source": [
    "def funky(stringy):\n",
    "    stringy\n",
    "    pass\n",
    "    "
   ]
  },
  {
   "cell_type": "code",
   "execution_count": 198,
   "metadata": {},
   "outputs": [],
   "source": [
    "funky(stringy)"
   ]
  },
  {
   "cell_type": "code",
   "execution_count": 204,
   "metadata": {},
   "outputs": [
    {
     "name": "stdout",
     "output_type": "stream",
     "text": [
      "AAA:1\n",
      "CCC:1\n",
      "AAT:1\n",
      "TTA:1\n",
      "CAC:1\n",
      "AGC:1\n",
      "TGG:2\n",
      "GCC:1\n",
      "CAG:1\n",
      "GGG:2\n",
      "G:1\n"
     ]
    }
   ],
   "source": [
    "q=print(stringy.replace(' ', '\\n') )"
   ]
  },
  {
   "cell_type": "code",
   "execution_count": 116,
   "metadata": {},
   "outputs": [],
   "source": [
    "def test_1(s):\n",
    "    amino_acids = ([s[i:i+3] for i in range(0, len(s), 3)])\n",
    "    amino_acids = [codon_map.get(item,item) for item in amino_acids ]\n",
    "    return amino_acids\n",
    "    "
   ]
  },
  {
   "cell_type": "code",
   "execution_count": 118,
   "metadata": {},
   "outputs": [],
   "source": [
    "aminos=test_1(p)"
   ]
  },
  {
   "cell_type": "code",
   "execution_count": 205,
   "metadata": {},
   "outputs": [],
   "source": [
    "q"
   ]
  },
  {
   "cell_type": "code",
   "execution_count": 123,
   "metadata": {},
   "outputs": [],
   "source": [
    "t_dict={}\n",
    "for i in aminos:\n",
    "    t_dict[i]=t_dict.get(i,0)+1"
   ]
  },
  {
   "cell_type": "code",
   "execution_count": 124,
   "metadata": {},
   "outputs": [
    {
     "data": {
      "text/plain": [
       "{'K': 1,\n",
       " 'P': 1,\n",
       " 'N': 1,\n",
       " 'L': 1,\n",
       " 'H': 1,\n",
       " 'S': 1,\n",
       " 'W': 2,\n",
       " 'A': 1,\n",
       " 'Q': 1,\n",
       " 'G': 3}"
      ]
     },
     "execution_count": 124,
     "metadata": {},
     "output_type": "execute_result"
    }
   ],
   "source": [
    "t_dict"
   ]
  },
  {
   "cell_type": "code",
   "execution_count": 145,
   "metadata": {},
   "outputs": [
    {
     "data": {
      "text/plain": [
       "['A', 'G', 'G', 'G', 'H', 'K', 'L', 'N', 'P', 'Q', 'S', 'W', 'W']"
      ]
     },
     "execution_count": 145,
     "metadata": {},
     "output_type": "execute_result"
    }
   ],
   "source": [
    "aminos"
   ]
  },
  {
   "cell_type": "code",
   "execution_count": 144,
   "metadata": {},
   "outputs": [
    {
     "name": "stdout",
     "output_type": "stream",
     "text": [
      "None\n"
     ]
    }
   ],
   "source": [
    "print(d)"
   ]
  },
  {
   "cell_type": "code",
   "execution_count": 151,
   "metadata": {},
   "outputs": [
    {
     "data": {
      "text/plain": [
       "['AGTGGGGGGGGG', 'AAACCCAATTT', 'TTTACACAGCT', 'GCTGGGCCCAGT']"
      ]
     },
     "execution_count": 151,
     "metadata": {},
     "output_type": "execute_result"
    }
   ],
   "source": [
    "s"
   ]
  },
  {
   "cell_type": "code",
   "execution_count": 216,
   "metadata": {},
   "outputs": [
    {
     "ename": "NameError",
     "evalue": "name 'string' is not defined",
     "output_type": "error",
     "traceback": [
      "\u001b[0;31m---------------------------------------------------------------------------\u001b[0m",
      "\u001b[0;31mNameError\u001b[0m                                 Traceback (most recent call last)",
      "\u001b[0;32m<ipython-input-216-c2a81166264d>\u001b[0m in \u001b[0;36m<module>\u001b[0;34m\u001b[0m\n\u001b[0;32m----> 1\u001b[0;31m \u001b[0mdna_analyzer\u001b[0m\u001b[0;34m(\u001b[0m\u001b[0ms\u001b[0m\u001b[0;34m,\u001b[0m \u001b[0mcodon_map\u001b[0m\u001b[0;34m)\u001b[0m\u001b[0;34m\u001b[0m\u001b[0;34m\u001b[0m\u001b[0m\n\u001b[0m",
      "\u001b[0;32m<ipython-input-184-7b1f3e7e88bf>\u001b[0m in \u001b[0;36mdna_analyzer\u001b[0;34m(dna_strands, codon)\u001b[0m\n\u001b[1;32m      1\u001b[0m \u001b[0;31m#part together\u001b[0m\u001b[0;34m\u001b[0m\u001b[0;34m\u001b[0m\u001b[0;34m\u001b[0m\u001b[0m\n\u001b[1;32m      2\u001b[0m \u001b[0;32mdef\u001b[0m \u001b[0mdna_analyzer\u001b[0m\u001b[0;34m(\u001b[0m\u001b[0mdna_strands\u001b[0m\u001b[0;34m,\u001b[0m\u001b[0mcodon\u001b[0m\u001b[0;34m)\u001b[0m\u001b[0;34m:\u001b[0m\u001b[0;34m\u001b[0m\u001b[0;34m\u001b[0m\u001b[0m\n\u001b[0;32m----> 3\u001b[0;31m     \u001b[0;32mreturn\u001b[0m \u001b[0mcount_amino_acids\u001b[0m\u001b[0;34m(\u001b[0m\u001b[0mcommon_superstring\u001b[0m\u001b[0;34m(\u001b[0m\u001b[0mrefine_list\u001b[0m\u001b[0;34m(\u001b[0m\u001b[0mdna_strands\u001b[0m\u001b[0;34m)\u001b[0m\u001b[0;34m)\u001b[0m\u001b[0;34m,\u001b[0m\u001b[0mcodon\u001b[0m\u001b[0;34m)\u001b[0m\u001b[0;34m\u001b[0m\u001b[0;34m\u001b[0m\u001b[0m\n\u001b[0m\u001b[1;32m      4\u001b[0m \u001b[0;34m\u001b[0m\u001b[0m\n",
      "\u001b[0;32m<ipython-input-215-5d09183ba767>\u001b[0m in \u001b[0;36mcount_amino_acids\u001b[0;34m(s, codon)\u001b[0m\n\u001b[1;32m      9\u001b[0m         \u001b[0mcounts\u001b[0m\u001b[0;34m[\u001b[0m\u001b[0mi\u001b[0m\u001b[0;34m]\u001b[0m \u001b[0;34m=\u001b[0m \u001b[0mcounts\u001b[0m\u001b[0;34m.\u001b[0m\u001b[0mget\u001b[0m\u001b[0;34m(\u001b[0m\u001b[0mi\u001b[0m\u001b[0;34m,\u001b[0m \u001b[0;36m0\u001b[0m\u001b[0;34m)\u001b[0m \u001b[0;34m+\u001b[0m \u001b[0;36m1\u001b[0m\u001b[0;34m\u001b[0m\u001b[0;34m\u001b[0m\u001b[0m\n\u001b[1;32m     10\u001b[0m     \u001b[0mstringy\u001b[0m\u001b[0;34m=\u001b[0m\u001b[0;34m\" \"\u001b[0m\u001b[0;34m.\u001b[0m\u001b[0mjoin\u001b[0m\u001b[0;34m(\u001b[0m\u001b[0;34m[\u001b[0m\u001b[0;34m\":\"\u001b[0m\u001b[0;34m.\u001b[0m\u001b[0mjoin\u001b[0m\u001b[0;34m(\u001b[0m\u001b[0;34m[\u001b[0m\u001b[0mkey\u001b[0m\u001b[0;34m,\u001b[0m \u001b[0mstr\u001b[0m\u001b[0;34m(\u001b[0m\u001b[0mval\u001b[0m\u001b[0;34m)\u001b[0m\u001b[0;34m]\u001b[0m\u001b[0;34m)\u001b[0m \u001b[0;32mfor\u001b[0m \u001b[0mkey\u001b[0m\u001b[0;34m,\u001b[0m \u001b[0mval\u001b[0m \u001b[0;32min\u001b[0m \u001b[0mcounts\u001b[0m\u001b[0;34m.\u001b[0m\u001b[0mitems\u001b[0m\u001b[0;34m(\u001b[0m\u001b[0;34m)\u001b[0m\u001b[0;34m]\u001b[0m\u001b[0;34m)\u001b[0m\u001b[0;34m\u001b[0m\u001b[0;34m\u001b[0m\u001b[0m\n\u001b[0;32m---> 11\u001b[0;31m     \u001b[0mstring\u001b[0m\u001b[0;34m.\u001b[0m\u001b[0mreplace\u001b[0m\u001b[0;34m(\u001b[0m\u001b[0;34m\" \"\u001b[0m\u001b[0;34m,\u001b[0m\u001b[0;34m'/n'\u001b[0m\u001b[0;34m)\u001b[0m\u001b[0;34m\u001b[0m\u001b[0;34m\u001b[0m\u001b[0m\n\u001b[0m\u001b[1;32m     12\u001b[0m \u001b[0;34m\u001b[0m\u001b[0m\n\u001b[1;32m     13\u001b[0m \u001b[0;34m\u001b[0m\u001b[0m\n",
      "\u001b[0;31mNameError\u001b[0m: name 'string' is not defined"
     ]
    }
   ],
   "source": [
    "dna_analyzer(s, codon_map)"
   ]
  },
  {
   "cell_type": "code",
   "execution_count": 175,
   "metadata": {},
   "outputs": [],
   "source": [
    "word=a.split()"
   ]
  },
  {
   "cell_type": "code",
   "execution_count": 176,
   "metadata": {},
   "outputs": [
    {
     "data": {
      "text/plain": [
       "'A:1'"
      ]
     },
     "execution_count": 176,
     "metadata": {},
     "output_type": "execute_result"
    }
   ],
   "source": [
    "word[0]"
   ]
  },
  {
   "cell_type": "code",
   "execution_count": 190,
   "metadata": {},
   "outputs": [],
   "source": [
    "s= ['5',\n",
    "'AATTGGCCAATTG',\n",
    "'TTGAATTGGCCAAAA',\n",
    "'AAATTTGGGCCC',\n",
    "'AAAEEERRRTTT',\n",
    "'NEWUSER123']"
   ]
  },
  {
   "cell_type": "code",
   "execution_count": 191,
   "metadata": {},
   "outputs": [
    {
     "data": {
      "text/plain": [
       "['5',\n",
       " 'AATTGGCCAATTG',\n",
       " 'TTGAATTGGCCAAAA',\n",
       " 'AAATTTGGGCCC',\n",
       " 'AAAEEERRRTTT',\n",
       " 'NEWUSER123']"
      ]
     },
     "execution_count": 191,
     "metadata": {},
     "output_type": "execute_result"
    }
   ],
   "source": [
    "s"
   ]
  },
  {
   "cell_type": "code",
   "execution_count": null,
   "metadata": {},
   "outputs": [],
   "source": []
  }
 ],
 "metadata": {
  "kernelspec": {
   "display_name": "Python 3",
   "language": "python",
   "name": "python3"
  },
  "language_info": {
   "codemirror_mode": {
    "name": "ipython",
    "version": 3
   },
   "file_extension": ".py",
   "mimetype": "text/x-python",
   "name": "python",
   "nbconvert_exporter": "python",
   "pygments_lexer": "ipython3",
   "version": "3.6.7"
  }
 },
 "nbformat": 4,
 "nbformat_minor": 2
}
