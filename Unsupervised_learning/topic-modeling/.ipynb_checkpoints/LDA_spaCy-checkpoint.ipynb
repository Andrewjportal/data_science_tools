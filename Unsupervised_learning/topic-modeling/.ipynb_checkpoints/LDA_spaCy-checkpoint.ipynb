{
 "cells": [
  {
   "cell_type": "code",
   "execution_count": 1,
   "metadata": {},
   "outputs": [],
   "source": [
    "import gensim\n",
    "import pyLDAvis\n",
    "from pyLDAvis import gensim as gensimvis\n",
    "import spacy\n",
    "\n",
    "import logging\n",
    "from tqdm import tqdm\n",
    "from pprint import pprint\n",
    "\n",
    "\n",
    "from sklearn import datasets\n",
    "import pandas as pd"
   ]
  },
  {
   "cell_type": "code",
   "execution_count": 2,
   "metadata": {},
   "outputs": [],
   "source": [
    "# Set categories\n",
    "categories = ['alt.atheism', 'comp.graphics', 'rec.sport.baseball', \n",
    "              'rec.motorcycles', 'sci.space', 'talk.politics.mideast']\n",
    "# Download the training subset of the 20 NG dataset, with headers, footers, quotes removed\n",
    "# Only keep docs from the 6 categories above\n",
    "ng_train = datasets.fetch_20newsgroups(subset='train', categories=categories, \n",
    "                                      remove=('headers', 'footers', 'quotes'))"
   ]
  },
  {
   "cell_type": "code",
   "execution_count": 3,
   "metadata": {},
   "outputs": [
    {
     "data": {
      "text/plain": [
       "'Well, the Red Sox have apparenly resigned Herm Winningham to a AAA contract.\\nTed \"Larry\" Simmons signed him to a AAA contract then released him from\\nBuffalo, allowing Lou \"Curly\" Gorman to circumvent the rule about not\\nresigning free agents until May 1. Clearly, neither of these guys is bright\\nenough to be Moe.\\n\\n Mike Jones | AIX High-End Development | mjones@donald.aix.kingston.ibm.com'"
      ]
     },
     "execution_count": 3,
     "metadata": {},
     "output_type": "execute_result"
    }
   ],
   "source": [
    "ng_train.data[0]"
   ]
  },
  {
   "cell_type": "code",
   "execution_count": 4,
   "metadata": {},
   "outputs": [],
   "source": [
    "logging.basicConfig(filename='lda_model.log', format='%(asctime)s : %(levelname)s : %(message)s', level=logging.INFO)"
   ]
  },
  {
   "cell_type": "code",
   "execution_count": 5,
   "metadata": {},
   "outputs": [],
   "source": [
    "def sent_to_words(sentences):\n",
    "    for sentence in sentences:\n",
    "        yield(gensim.utils.simple_preprocess(str(sentence), deacc=True))\n",
    "        \n",
    "\n",
    "clean_sents = list(sent_to_words(ng_train.data))"
   ]
  },
  {
   "cell_type": "code",
   "execution_count": 6,
   "metadata": {},
   "outputs": [
    {
     "name": "stderr",
     "output_type": "stream",
     "text": [
      "/Users/adam/Documents/Lectures/venv/lib/python3.6/site-packages/gensim/models/phrases.py:598: UserWarning: For a faster implementation, use the gensim.models.phrases.Phraser class\n",
      "  warnings.warn(\"For a faster implementation, use the gensim.models.phrases.Phraser class\")\n"
     ]
    }
   ],
   "source": [
    "# Build the bigram and trigram models\n",
    "bigram = gensim.models.Phrases(clean_sents, min_count=20) # higher threshold fewer phrases.\n",
    "\n",
    "trigram = gensim.models.Phrases(bigram[clean_sents], min_count=10)  \n",
    "\n",
    "# Faster way to get a sentence clubbed as a trigram/bigram\n",
    "bigram_model = gensim.models.phrases.Phraser(bigram)\n",
    "trigram_model = gensim.models.phrases.Phraser(trigram)"
   ]
  },
  {
   "cell_type": "code",
   "execution_count": 7,
   "metadata": {},
   "outputs": [
    {
     "name": "stdout",
     "output_type": "stream",
     "text": [
      "well the red_sox have apparenly resigned herm winningham to aaa contract ted larry simmons signed him to aaa contract then released him from buffalo allowing lou curly gorman to circumvent the rule about not resigning free agents until may clearly neither of these_guys is bright enough to_be moe mike jones aix high end development mjones donald aix kingston ibm_com \n",
      "\n",
      "was_wondering_if anyone knows where_can_get more information_about the graphics in the wingcommander series and the realspace system they use think it really awesome and wouldn mind being_able_to use similar features in programs thanks_in_advance \n",
      "\n",
      "do is still concept the software is what sells and what will determine its success apparantly you dont keep up on the news do was shown at ces to developers and others at private showings over software licensees currently developing software for it \n",
      "\n",
      "this posts contains too_many fallacies to respond too the abolishment of divinity requires the elimination of freewill you have not shown this you have not even attempted to however the existance of an omniscience being does eliminate freewill in mortals posted over five months_ago no_one has_been able_to refute it nor give any reasonable reasons against it satan and the angels do_not have freewill they do what god tells them to do \n",
      "\n",
      "anyone am serious motorcycle enthusiast without motorcycle and to put it bluntly it sucks really would_like some advice on what would_be good starter bike for me do know one_thing however need to make my first bike good one because buying second any time soon is out of the question am specifically interested_in racing bikes cbr gsx know that this may sound kind_of crazy considering that ve_never had bike before but am responsible fast learner and in love please give_me any advice that you think would help_me in my search including places to look or even specific bikes that you_want to sell me thanks \n",
      "\n"
     ]
    }
   ],
   "source": [
    "for s in clean_sents[0:5]:\n",
    "    print(f'{\" \".join(trigram_model[bigram_model[s]]) } \\n')"
   ]
  },
  {
   "cell_type": "code",
   "execution_count": 8,
   "metadata": {},
   "outputs": [],
   "source": [
    "clean_sents = [trigram_model[bigram_model[t]] for t in clean_sents]"
   ]
  },
  {
   "cell_type": "code",
   "execution_count": 9,
   "metadata": {},
   "outputs": [
    {
     "name": "stdout",
     "output_type": "stream",
     "text": [
      "well the red_sox have apparenly resigned herm winningham to aaa contract ted larry simmons signed him to aaa contract then released him from buffalo allowing lou curly gorman to circumvent the rule about not resigning free agents until may clearly neither of these_guys is bright enough to_be moe mike jones aix high end development mjones donald aix kingston ibm_com \n",
      "\n",
      "was_wondering_if anyone knows where_can_get more information_about the graphics in the wingcommander series and the realspace system they use think it really awesome and wouldn mind being_able_to use similar features in programs thanks_in_advance \n",
      "\n",
      "do is still concept the software is what sells and what will determine its success apparantly you dont keep up on the news do was shown at ces to developers and others at private showings over software licensees currently developing software for it \n",
      "\n",
      "this posts contains too_many fallacies to respond too the abolishment of divinity requires the elimination of freewill you have not shown this you have not even attempted to however the existance of an omniscience being does eliminate freewill in mortals posted over five months_ago no_one has_been able_to refute it nor give any reasonable reasons against it satan and the angels do_not have freewill they do what god tells them to do \n",
      "\n",
      "anyone am serious motorcycle enthusiast without motorcycle and to put it bluntly it sucks really would_like some advice on what would_be good starter bike for me do know one_thing however need to make my first bike good one because buying second any time soon is out of the question am specifically interested_in racing bikes cbr gsx know that this may sound kind_of crazy considering that ve_never had bike before but am responsible fast learner and in love please give_me any advice that you think would help_me in my search including places to look or even specific bikes that you_want to sell me thanks \n",
      "\n"
     ]
    }
   ],
   "source": [
    "for t in clean_sents[:5]:\n",
    "    print(f'{\" \".join(t)} \\n')"
   ]
  },
  {
   "cell_type": "code",
   "execution_count": 10,
   "metadata": {},
   "outputs": [],
   "source": [
    "nlp = spacy.load('en', disable=['parser', 'ner'])\n",
    "\n",
    "# NOUN, ADJ, VERB, ADV\n",
    "def lemmatization(texts, allowed_postags=['NOUN']):\n",
    "    texts_out = []\n",
    "    for sent in texts:\n",
    "        doc = nlp(\" \".join(sent)) \n",
    "        \n",
    "        output_text = [token.lemma_ for token in doc if token.pos_ in allowed_postags and token.is_stop == False]\n",
    "        \n",
    "        if len(output_text) > 0:\n",
    "            texts_out.append(output_text)\n",
    "    return texts_out"
   ]
  },
  {
   "cell_type": "code",
   "execution_count": 11,
   "metadata": {},
   "outputs": [],
   "source": [
    "clean_sents = lemmatization(clean_sents)"
   ]
  },
  {
   "cell_type": "code",
   "execution_count": 12,
   "metadata": {},
   "outputs": [
    {
     "name": "stdout",
     "output_type": "stream",
     "text": [
      "red_sox winningham aaa contract larry simmon aaa contract buffalo rule agent these_guy to_be moe mike jone end development mjone kingston ibm_com \n",
      "\n",
      "where_can_get graphic wingcommander series realspace system wouldn mind feature program thanks_in_advance \n",
      "\n",
      "software success news ce developer showing software licensee software \n",
      "\n",
      "post fallacy abolishment divinity elimination freewill existance omniscience freewill mortal reason angel do_not freewill \n",
      "\n",
      "motorcycle enthusiast motorcycle advice bike one_thing bike time question racing bike cbr gsx ve_never bike learner love advice help_me search place bike you_want thank \n",
      "\n"
     ]
    }
   ],
   "source": [
    "for t in clean_sents[0:5]:\n",
    "    print(f'{\" \".join(t)} \\n')"
   ]
  },
  {
   "cell_type": "markdown",
   "metadata": {},
   "source": [
    "![The Office](theoffice.gif)"
   ]
  },
  {
   "cell_type": "markdown",
   "metadata": {},
   "source": [
    "# Now for the LDA part"
   ]
  },
  {
   "cell_type": "code",
   "execution_count": 13,
   "metadata": {},
   "outputs": [],
   "source": [
    "id2word = gensim.corpora.Dictionary(clean_sents)\n",
    "\n",
    "corpus = [id2word.doc2bow(t) for t in clean_sents]"
   ]
  },
  {
   "cell_type": "code",
   "execution_count": 14,
   "metadata": {},
   "outputs": [
    {
     "data": {
      "text/plain": [
       "[('aaa', 2),\n",
       " ('agent', 1),\n",
       " ('buffalo', 1),\n",
       " ('contract', 2),\n",
       " ('development', 1),\n",
       " ('end', 1),\n",
       " ('ibm_com', 1),\n",
       " ('jone', 1),\n",
       " ('kingston', 1),\n",
       " ('larry', 1),\n",
       " ('mike', 1),\n",
       " ('mjone', 1),\n",
       " ('moe', 1),\n",
       " ('red_sox', 1),\n",
       " ('rule', 1),\n",
       " ('simmon', 1),\n",
       " ('these_guy', 1),\n",
       " ('to_be', 1),\n",
       " ('winningham', 1)]"
      ]
     },
     "execution_count": 14,
     "metadata": {},
     "output_type": "execute_result"
    }
   ],
   "source": [
    "[(id2word[id], freq) for id, freq in corpus[0]]"
   ]
  },
  {
   "cell_type": "code",
   "execution_count": 15,
   "metadata": {},
   "outputs": [],
   "source": [
    "lda_model = gensim.models.ldamulticore.LdaMulticore(corpus=corpus,\n",
    "                                           id2word=id2word,\n",
    "                                           num_topics=10, \n",
    "                                           random_state=100,\n",
    "                                           chunksize=100,\n",
    "                                           passes=128,\n",
    "                                           per_word_topics=True)"
   ]
  },
  {
   "cell_type": "code",
   "execution_count": 16,
   "metadata": {},
   "outputs": [
    {
     "name": "stdout",
     "output_type": "stream",
     "text": [
      "[(0,\n",
      "  '0.014*\"armenian\" + 0.012*\"people\" + 0.010*\"turkey\" + 0.008*\"turk\" + '\n",
      "  '0.008*\"village\" + 0.006*\"jew\" + 0.006*\"armenia\" + 0.006*\"genocide\" + '\n",
      "  '0.005*\"azerbaijan\" + 0.005*\"population\"'),\n",
      " (1,\n",
      "  '0.015*\"edu\" + 0.013*\"graphic\" + 0.011*\"line\" + 0.009*\"mail\" + '\n",
      "  '0.008*\"driver\" + 0.007*\"mode\" + 0.006*\"thank\" + 0.006*\"com\" + 0.005*\"card\" '\n",
      "  '+ 0.005*\"program\"'),\n",
      " (2,\n",
      "  '0.020*\"people\" + 0.011*\"woman\" + 0.009*\"time\" + 0.008*\"armenian\" + '\n",
      "  '0.007*\"apartment\" + 0.007*\"car\" + 0.007*\"neighbor\" + 0.006*\"child\" + '\n",
      "  '0.006*\"way\" + 0.006*\"thing\"'),\n",
      " (3,\n",
      "  '0.018*\"space\" + 0.008*\"program\" + 0.008*\"system\" + 0.007*\"year\" + '\n",
      "  '0.007*\"time\" + 0.006*\"technology\" + 0.006*\"rocket\" + 0.005*\"nasa\" + '\n",
      "  '0.005*\"satellite\" + 0.005*\"flight\"'),\n",
      " (4,\n",
      "  '0.024*\"game\" + 0.020*\"team\" + 0.015*\"player\" + 0.013*\"year\" + 0.009*\"fan\" + '\n",
      "  '0.009*\"baseball\" + 0.009*\"season\" + 0.008*\"run\" + 0.007*\"time\" + '\n",
      "  '0.006*\"last_year\"'),\n",
      " (5,\n",
      "  '0.030*\"bike\" + 0.012*\"dod\" + 0.010*\"motorcycle\" + 0.008*\"time\" + '\n",
      "  '0.008*\"thing\" + 0.008*\"dog\" + 0.008*\"helmet\" + 0.006*\"road\" + 0.005*\"rider\" '\n",
      "  '+ 0.005*\"ride\"'),\n",
      " (6,\n",
      "  '0.010*\"vesa\" + 0.008*\"van\" + 0.006*\"qur_an\" + 0.005*\"jfif\" + 0.004*\"kk\" + '\n",
      "  '0.004*\"een\" + 0.004*\"redesign\" + 0.004*\"verse\" + 0.004*\"eagle\" + '\n",
      "  '0.003*\"problem\"'),\n",
      " (7,\n",
      "  '0.012*\"space\" + 0.010*\"satellite\" + 0.009*\"earth\" + 0.008*\"mission\" + '\n",
      "  '0.008*\"orbit\" + 0.008*\"datum\" + 0.008*\"launch\" + 0.007*\"moon\" + '\n",
      "  '0.007*\"system\" + 0.006*\"list\"'),\n",
      " (8,\n",
      "  '0.015*\"people\" + 0.011*\"god\" + 0.009*\"way\" + 0.008*\"question\" + '\n",
      "  '0.008*\"problem\" + 0.007*\"religion\" + 0.007*\"time\" + 0.007*\"book\" + '\n",
      "  '0.007*\"thing\" + 0.006*\"argument\"'),\n",
      " (9,\n",
      "  '0.029*\"image\" + 0.017*\"file\" + 0.012*\"software\" + 0.012*\"program\" + '\n",
      "  '0.010*\"system\" + 0.010*\"datum\" + 0.010*\"jpeg\" + 0.009*\"format\" + '\n",
      "  '0.009*\"bit\" + 0.008*\"gif\"')]\n"
     ]
    }
   ],
   "source": [
    "pprint(lda_model.print_topics())"
   ]
  },
  {
   "cell_type": "code",
   "execution_count": 20,
   "metadata": {},
   "outputs": [
    {
     "name": "stdout",
     "output_type": "stream",
     "text": [
      "Well, the Red Sox have apparenly resigned Herm Winningham to a AAA contract.\n",
      "Ted \"Larry\" Simmons signed him to a AAA contract then released him from\n",
      "Buffalo, allowing Lou \"Curly\" Gorman to circumvent the rule about not\n",
      "resigning free agents until May 1. Clearly, neither of these guys is bright\n",
      "enough to be Moe.\n",
      "\n",
      " Mike Jones | AIX High-End Development | mjones@donald.aix.kingston.ibm.com\n"
     ]
    }
   ],
   "source": [
    "print(ng_train.data[0])"
   ]
  },
  {
   "cell_type": "code",
   "execution_count": 21,
   "metadata": {},
   "outputs": [
    {
     "name": "stdout",
     "output_type": "stream",
     "text": [
      "[(4, 0.5354464), (2, 0.3018573), (3, 0.13087486)]\n"
     ]
    }
   ],
   "source": [
    "top_topics = lda_model.get_document_topics(corpus[0])\n",
    "top_topics.sort(key=lambda x: x[1], reverse=True)\n",
    "\n",
    "print(top_topics)"
   ]
  },
  {
   "cell_type": "code",
   "execution_count": 22,
   "metadata": {},
   "outputs": [
    {
     "name": "stderr",
     "output_type": "stream",
     "text": [
      "/Users/adam/Documents/Lectures/venv/lib/python3.6/site-packages/pyLDAvis/_prepare.py:257: FutureWarning: Sorting because non-concatenation axis is not aligned. A future version\n",
      "of pandas will change to not sort by default.\n",
      "\n",
      "To accept the future behavior, pass 'sort=False'.\n",
      "\n",
      "To retain the current behavior and silence the warning, pass 'sort=True'.\n",
      "\n",
      "  return pd.concat([default_term_info] + list(topic_dfs))\n"
     ]
    }
   ],
   "source": [
    "pyLDAvis.enable_notebook()\n",
    "vis = gensimvis.prepare(lda_model, corpus, id2word)\n",
    "pyLDAvis.save_html(vis, 'lda.html')"
   ]
  },
  {
   "cell_type": "code",
   "execution_count": null,
   "metadata": {},
   "outputs": [],
   "source": []
  },
  {
   "cell_type": "code",
   "execution_count": null,
   "metadata": {},
   "outputs": [],
   "source": []
  },
  {
   "cell_type": "code",
   "execution_count": null,
   "metadata": {},
   "outputs": [],
   "source": []
  }
 ],
 "metadata": {
  "kernelspec": {
   "display_name": "Python 3",
   "language": "python",
   "name": "python3"
  },
  "language_info": {
   "codemirror_mode": {
    "name": "ipython",
    "version": 3
   },
   "file_extension": ".py",
   "mimetype": "text/x-python",
   "name": "python",
   "nbconvert_exporter": "python",
   "pygments_lexer": "ipython3",
   "version": "3.6.5"
  }
 },
 "nbformat": 4,
 "nbformat_minor": 2
}
