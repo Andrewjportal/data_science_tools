{
 "cells": [
  {
   "cell_type": "markdown",
   "metadata": {},
   "source": [
    "# Unit Testing: How we make sure our code doesn't break\n",
    "\n",
    "Unit testing is something that software engineers love to a borderline unhealthy level. If you ever want a SE to talk at length, just mention unit testing. However, they aren't wrong to be smitten with the concept. So, what is unit testing?\n",
    "\n",
    "Unit testing is the idea that we want to make sure our functions always do what we think they do. In order to do that, we come up with a series of tests where we know what the function SHOULD do, and then make sure it does that. Let's start with a hand-coded, silly example."
   ]
  },
  {
   "cell_type": "code",
   "execution_count": null,
   "metadata": {},
   "outputs": [],
   "source": [
    "def add_two_to_int(input_int):\n",
    "    return input_int + 2\n",
    "\n",
    "add_two_to_int(4) # I know this should result in 6"
   ]
  },
  {
   "cell_type": "markdown",
   "metadata": {},
   "source": [
    "Great, it did the thing! However, if I put this code out to my team and someone typos or screws things up, will we know later? Right now, we'd have to come back in and manually check things out. So let's write a little function that will automate that testing."
   ]
  },
  {
   "cell_type": "code",
   "execution_count": null,
   "metadata": {},
   "outputs": [],
   "source": [
    "def test_add_two_to_int():\n",
    "    assert add_two_to_int(4) == 6, \"Test 1 failed!\"\n",
    "    assert add_two_to_int(4.7) == 6, \"Test 2 failed!\"\n",
    "    return \"Passed!\"\n",
    "    \n",
    "test_add_two_to_int()"
   ]
  },
  {
   "cell_type": "markdown",
   "metadata": {},
   "source": [
    "We failed a test! Why is that? We can see that our version of the function doesn't enforce that the input must be an integer. So we need to clean that up. Let's re-write the function."
   ]
  },
  {
   "cell_type": "code",
   "execution_count": null,
   "metadata": {},
   "outputs": [],
   "source": [
    "def add_two_to_int(input_int):\n",
    "    return int(input_int) + 2\n",
    "\n",
    "add_two_to_int(4.7) # I know this should result in 6"
   ]
  },
  {
   "cell_type": "code",
   "execution_count": null,
   "metadata": {},
   "outputs": [],
   "source": [
    "test_add_two_to_int()"
   ]
  },
  {
   "cell_type": "markdown",
   "metadata": {},
   "source": [
    "That's unit testing in a nutshell. We're going to write a bunch of tests that make sure that our code works the way we think it does. And then every time an update is made to the code, we'll re-run the tests to make sure all the functions still do what they're supposed to.\n",
    "\n",
    "There are a few concepts to consider when writing tests:\n",
    "\n",
    "**What are the edge cases?**\n",
    "\n",
    "In the above example, `4.7` was an edge case. It isn't something that was an obvious way the function would break. When writing tests, you need to think about all of the ways the code might ever be accessed. Do you need to handle types differently? Are there kwargs that might get weird? What happens if the user puts in something really strange?\n",
    "\n",
    "**How should your code break?**\n",
    "\n",
    "One of the things we didn't do above was check to see if the code breaks gracefully. As an example, if the user puts in a `string` where we expect an `int` we want to make sure the code appropriately raises a `TypeError`. That's hard to do in the \"handmade\" version of testing we did above. So let's introduce a better library called `unittest`."
   ]
  },
  {
   "cell_type": "code",
   "execution_count": null,
   "metadata": {},
   "outputs": [],
   "source": [
    "import unittest"
   ]
  },
  {
   "cell_type": "markdown",
   "metadata": {},
   "source": [
    "`unittest` assumes we're going to build a class of tests that work on something. Let's take a look at the canonical example from the `unittest` documentation. We're going to test a bunch of string methods. \n",
    "\n",
    "First, we design a class that inherits from the `TestCase` class that has all of the major functionality. Each test we build is named `test_WHATEVER_THE_TEST_DOES`. "
   ]
  },
  {
   "cell_type": "code",
   "execution_count": null,
   "metadata": {},
   "outputs": [],
   "source": [
    "class TestStringMethods(unittest.TestCase):\n",
    "\n",
    "    def test_upper(self):\n",
    "        self.assertEqual('foo'.upper(), 'FOO')\n",
    "\n",
    "    def test_isupper(self):\n",
    "        self.assertTrue('FOO'.isupper())\n",
    "        self.assertFalse('Foo'.isupper())\n",
    "\n",
    "    def test_split(self):\n",
    "        s = 'hello world'\n",
    "        self.assertEqual(s.split(), ['hello', 'world'])\n",
    "        # check that s.split fails when the separator is not a string\n",
    "        with self.assertRaises(TypeError):\n",
    "            s.split(2)"
   ]
  },
  {
   "cell_type": "markdown",
   "metadata": {},
   "source": [
    "Now we actually tell `unittest` to get to work and see if anything breaks. \n",
    "\n",
    "> The kwargs in `unittest.main()` are because we're running this in a Jupyter Notebook. Normally this would be run from the command line. "
   ]
  },
  {
   "cell_type": "code",
   "execution_count": null,
   "metadata": {},
   "outputs": [],
   "source": [
    "unittest.main(argv=['first-arg-is-ignored'], exit=False)"
   ]
  },
  {
   "cell_type": "markdown",
   "metadata": {},
   "source": [
    "Hooray! Everything is OK. Let's break it really quickly. Go to the line in `test_isupper` and change `assertFalse` to `assertTrue` then re-run those cells. You should see it break and tell you exactly where it broke.  "
   ]
  },
  {
   "cell_type": "markdown",
   "metadata": {},
   "source": [
    "## Exercise: Building and testing an anagram finder\n",
    "\n",
    "I'm writing below a unit testing class. It will help you decode what you need a function to do. Your goal is to fill in the function below to make it pass all of those tests. After this, we'll move on to bigger fish."
   ]
  },
  {
   "cell_type": "code",
   "execution_count": null,
   "metadata": {},
   "outputs": [],
   "source": [
    "from collections import defaultdict\n",
    "\n",
    "def check_if_anagrams(input1, input2):\n",
    "    if type(input1) not in [int, str, float]:\n",
    "        raise TypeError(\"Must be int, str, or float inputs\")\n",
    "    if type(input2) not in [int, str, float]:\n",
    "        raise TypeError(\"Must be int, str, or float inputs\")\n",
    "    in1_dict = defaultdict(int)\n",
    "    in2_dict = defaultdict(int)\n",
    "    for character in str(input1).lower():\n",
    "        in1_dict[character] += 1\n",
    "    for character in str(input2).lower():\n",
    "        in2_dict[character] += 1\n",
    "    return in1_dict == in2_dict"
   ]
  },
  {
   "cell_type": "code",
   "execution_count": null,
   "metadata": {},
   "outputs": [],
   "source": [
    "class TestAnagrams(unittest.TestCase):\n",
    "    \n",
    "    def test_output_type(self):\n",
    "        self.assertIs(type(check_if_anagrams(\"tar\",\"rat\")), bool)\n",
    "\n",
    "    def test_strings(self):\n",
    "        self.assertTrue(check_if_anagrams(\"elvis\",\"lives\"))\n",
    "        self.assertFalse(check_if_anagrams(\"prince\",\"lives\"))\n",
    "\n",
    "    def test_ints(self):\n",
    "        self.assertTrue(check_if_anagrams(1234,4321))\n",
    "        self.assertFalse(check_if_anagrams(1234,5321))\n",
    "\n",
    "    def test_floats(self):\n",
    "        self.assertTrue(check_if_anagrams(12.34,4.213))\n",
    "        self.assertFalse(check_if_anagrams(1.234,53.21))\n",
    "        \n",
    "    def test_spaces(self):\n",
    "        self.assertTrue(check_if_anagrams(\"clint eastwood\",\"old westaction\"))\n",
    "        self.assertFalse(check_if_anagrams(\"clint eastwood\",\"old west action\"))\n",
    "        \n",
    "    def test_list_and_tuple_errors(self):\n",
    "        with self.assertRaises(TypeError):\n",
    "            check_if_anagrams([1,2,3,4],[2,3,4,1])\n",
    "        with self.assertRaises(TypeError):\n",
    "            check_if_anagrams(\"steve\",(2,3,4,1))\n",
    "        with self.assertRaises(TypeError):\n",
    "            check_if_anagrams((2,3,4,1), 1101)\n",
    "            \n",
    "    def test_capitals(self):\n",
    "        self.assertTrue(check_if_anagrams(\"TEST\",\"test\"))\n",
    "        self.assertTrue(check_if_anagrams(\"ClInT EaStWooD\",\"old westaction\"))\n",
    "        "
   ]
  },
  {
   "cell_type": "code",
   "execution_count": null,
   "metadata": {},
   "outputs": [],
   "source": [
    "unittest.main(argv=['first-arg-is-ignored'], exit=False)"
   ]
  },
  {
   "cell_type": "code",
   "execution_count": null,
   "metadata": {},
   "outputs": [],
   "source": []
  }
 ],
 "metadata": {
  "language_info": {
   "codemirror_mode": {
    "name": "ipython",
    "version": 3
   },
   "file_extension": ".py",
   "mimetype": "text/x-python",
   "name": "python",
   "nbconvert_exporter": "python",
   "pygments_lexer": "ipython3",
   "version": "3.6.6"
  }
 },
 "nbformat": 4,
 "nbformat_minor": 2
}
