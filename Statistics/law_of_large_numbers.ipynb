{
 "cells": [
  {
   "cell_type": "markdown",
   "metadata": {},
   "source": [
    "# Law of Large Numbers: convergence on non-symmetric distributions"
   ]
  },
  {
   "cell_type": "markdown",
   "metadata": {},
   "source": [
    "Written by ZWM.\n",
    "\n",
    "Does the law of large numbers work for a non-symmetrical distribution? Let's build a little test."
   ]
  },
  {
   "cell_type": "code",
   "execution_count": null,
   "metadata": {},
   "outputs": [],
   "source": [
    "#######################\n",
    "# standard code block #\n",
    "#######################\n",
    "\n",
    "# see https://ipython.readthedocs.io/en/stable/interactive/magics.html\n",
    "%pylab inline\n",
    "\n",
    "%config InlineBackend.figure_formats = ['retina']"
   ]
  },
  {
   "cell_type": "code",
   "execution_count": null,
   "metadata": {},
   "outputs": [],
   "source": [
    "def gen_normal(n_draws = 1000, E_x=8, E_sigma=1):\n",
    "    \"\"\"\n",
    "    Generator for normally distributed values\n",
    "    \"\"\"\n",
    "    for _ in range(n_draws):\n",
    "        yield np.random.normal(E_x, E_sigma)\n",
    "        \n",
    "def gen_poisson(n_draws = 1000, E_x=2):\n",
    "    \"\"\"\n",
    "    Generator for values from a Poisson (non-symmetric) distribution\n",
    "    \"\"\"\n",
    "    for _ in range(n_draws):\n",
    "        yield np.random.poisson(E_x)\n",
    "\n",
    "def check_convergence_to_mean(func = gen_normal, **kwargs):\n",
    "    \"\"\"\n",
    "    Asks the generator specified by \"func\" to send in measurements\n",
    "    of the distribution, then tracks what the mean value is compared\n",
    "    to how many measurements we've seen.\n",
    "    \"\"\"\n",
    "    history = []\n",
    "    current_value = 0\n",
    "    current_count = 0\n",
    "    for measure in func(**kwargs):\n",
    "        current_value += measure\n",
    "        current_count += 1\n",
    "        history.append(current_value/current_count)\n",
    "    return history\n",
    "\n",
    "def plot_history(history):\n",
    "    \"\"\"\n",
    "    Plots the sum vs the number of measurements taken\n",
    "    \"\"\"\n",
    "    plt.plot(range(len(history)), history);"
   ]
  },
  {
   "cell_type": "markdown",
   "metadata": {},
   "source": [
    "#### Try it with the normal distribution"
   ]
  },
  {
   "cell_type": "code",
   "execution_count": null,
   "metadata": {},
   "outputs": [],
   "source": [
    "history = check_convergence_to_mean(n_draws=10000)\n",
    "plot_history(history)"
   ]
  },
  {
   "cell_type": "markdown",
   "metadata": {},
   "source": [
    "#### Now with Poisson\n",
    "\n",
    "First, let's look at how the poisson distribution is... distributed _(YEEEAAAHHHHH!)_"
   ]
  },
  {
   "cell_type": "code",
   "execution_count": null,
   "metadata": {},
   "outputs": [],
   "source": [
    "np.random.seed(42)\n",
    "plt.hist(np.random.poisson(2,size=(10000)));"
   ]
  },
  {
   "cell_type": "markdown",
   "metadata": {},
   "source": [
    "and the history..."
   ]
  },
  {
   "cell_type": "code",
   "execution_count": null,
   "metadata": {},
   "outputs": [],
   "source": [
    "history = check_convergence_to_mean(n_draws=10000, func=gen_poisson)\n",
    "plot_history(history)"
   ]
  },
  {
   "cell_type": "code",
   "execution_count": null,
   "metadata": {},
   "outputs": [],
   "source": []
  }
 ],
 "metadata": {
  "kernelspec": {
   "display_name": "Python 3",
   "language": "python",
   "name": "python3"
  },
  "language_info": {
   "codemirror_mode": {
    "name": "ipython",
    "version": 3
   },
   "file_extension": ".py",
   "mimetype": "text/x-python",
   "name": "python",
   "nbconvert_exporter": "python",
   "pygments_lexer": "ipython3",
   "version": "3.6.7"
  }
 },
 "nbformat": 4,
 "nbformat_minor": 2
}
