{
 "cells": [
  {
   "cell_type": "code",
   "execution_count": null,
   "metadata": {},
   "outputs": [],
   "source": [
    "#######################\n",
    "# standard code block #\n",
    "#######################\n",
    "\n",
    "# see https://ipython.readthedocs.io/en/stable/interactive/magics.html\n",
    "%pylab inline\n",
    "\n",
    "%config InlineBackend.figure_formats = ['retina']"
   ]
  },
  {
   "cell_type": "markdown",
   "metadata": {},
   "source": [
    "## Central Limit Theorem\n",
    "\n",
    "- How it works: \n",
    "    - Sample from a distribution k times; this can be from any kind of distribution, but let's call the distribution **D**\n",
    "        - Take the mean (expectation) of those samples; now you have an estimate of the underlying distribution's mean\n",
    "        - Call the set of samples $k_{1}$\n",
    "        - $E(k_{1})$ = one sample mean of **D**\n",
    "    - Take a second random sample, again of size k, from the same distribution **D**; compute that sample's mean \n",
    "        - Let's call this second sample $k_{2}$\n",
    "        - $E(k_{2})$ = a second sample mean of **D**\n",
    "    - Now you have two samples of the underlying distribution's mean (each sample is size k, and both are coming from distribution **D**)\n",
    "        - We have $E(k_{1})$ and $E(k_{2})$ from **D**\n",
    "    - Keep taking samples (up to n) of size k from distribution **D**\n",
    "        - e.g. $E(k_{1})$, $E(k_{2})$, $E(k_{3})$, $E(k_{4})$\n",
    "        - Call the number of samples n, so we have n = 4 now\n",
    "    - Now you have n samples, where each sample is made up of k elements, that represent an estimate of distribution **D**'s mean\n",
    "    - CLT says that the distribution of n will now be approximately normal (and actually normal in the limit, when we take infinite samples)"
   ]
  },
  {
   "cell_type": "markdown",
   "metadata": {},
   "source": [
    "## Example drawing from a uniform distribution"
   ]
  },
  {
   "cell_type": "code",
   "execution_count": null,
   "metadata": {},
   "outputs": [],
   "source": [
    "uniform_draws = np.random.uniform(1,10,(10,4))\n",
    "# draw from a uniform distribution 10 times, and take 4 samples each time\n",
    "\n",
    "uniform_draws"
   ]
  },
  {
   "cell_type": "code",
   "execution_count": null,
   "metadata": {},
   "outputs": [],
   "source": [
    "sample_means = np.mean(uniform_draws, axis=1) \n",
    "# calculate the mean of each sample\n",
    "# (where a sample is a four-element array)\n",
    " \n",
    "sample_means"
   ]
  },
  {
   "cell_type": "code",
   "execution_count": null,
   "metadata": {},
   "outputs": [],
   "source": [
    "sample_means.mean() # now take the expectation of the 10 means"
   ]
  },
  {
   "cell_type": "code",
   "execution_count": null,
   "metadata": {},
   "outputs": [],
   "source": [
    "# Now let's run this for many more samples and plot the means\n",
    "import scipy.stats as stats\n",
    "\n",
    "uniform_draws = np.random.uniform(1, 10, (10**4, 100))\n",
    "sample_means = np.mean(uniform_draws, axis=1)\n",
    "\n",
    "plt.hist(\n",
    "    sample_means, bins=50, density=True, label=\"sample means\");\n",
    "xmin, xmax = plt.xlim()\n",
    "x = np.linspace(xmin, xmax, 1000)\n",
    "y = stats.norm.pdf(x,np.mean(sample_means),np.std(sample_means))\n",
    "plt.plot(x,y,'k',label=\"normal\");\n",
    "plt.legend();"
   ]
  },
  {
   "cell_type": "markdown",
   "metadata": {},
   "source": [
    "## In conclusion\n",
    "\n",
    "- Note that we originally drew from a **uniform** distribution! \n",
    "- Then we took a bunch of samples of size 500 and took the mean of each sample\n",
    "- The distribution of our sample means looks **normal**! That's the CLT"
   ]
  },
  {
   "cell_type": "markdown",
   "metadata": {},
   "source": [
    "# You Code\n",
    "\n",
    "Try this with a different distribution. Are there any that you expect will not follow the CLT?"
   ]
  },
  {
   "cell_type": "code",
   "execution_count": null,
   "metadata": {},
   "outputs": [],
   "source": []
  }
 ],
 "metadata": {
  "language_info": {
   "codemirror_mode": {
    "name": "ipython",
    "version": 3
   },
   "file_extension": ".py",
   "mimetype": "text/x-python",
   "name": "python",
   "nbconvert_exporter": "python",
   "pygments_lexer": "ipython3",
   "version": "3.6.5"
  }
 },
 "nbformat": 4,
 "nbformat_minor": 2
}
