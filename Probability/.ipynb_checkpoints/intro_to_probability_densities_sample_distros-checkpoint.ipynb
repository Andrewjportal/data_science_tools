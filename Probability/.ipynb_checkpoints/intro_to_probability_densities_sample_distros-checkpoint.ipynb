{
 "cells": [
  {
   "cell_type": "code",
   "execution_count": null,
   "metadata": {},
   "outputs": [],
   "source": [
    "#######################\n",
    "# standard code block #\n",
    "#######################\n",
    "\n",
    "# see https://ipython.readthedocs.io/en/stable/interactive/magics.html\n",
    "%pylab inline\n",
    "\n",
    "%config InlineBackend.figure_formats = ['svg']\n",
    "\n",
    "import seaborn\n",
    "seaborn.set_style(\"white\")"
   ]
  },
  {
   "cell_type": "markdown",
   "metadata": {},
   "source": [
    "# Introduction to Probability: \n",
    "\n",
    "## 1) Probability densities, 2) some sample distributions\n"
   ]
  },
  {
   "cell_type": "markdown",
   "metadata": {},
   "source": [
    "### Probability densities:\n",
    "We can easily visualize our densities by a \"normalized histogram\" that gives the values with their appropriate probability weightings:\n",
    "\n",
    "    Examples:\n",
    "        Fair Coin: 1/2, 1/2\n",
    "        Unfair Coin: 1/3, 2/3\n",
    "        Fair Die: 1/6, 1/6, 1/6, 1/6, 1/6, 1/6\n",
    "        Unfair Die: 1/20, 2/20, 2/20, 2/20, 2/20, 11/20"
   ]
  },
  {
   "cell_type": "code",
   "execution_count": null,
   "metadata": {},
   "outputs": [],
   "source": [
    "## PROBABILITIES FOR A FAIR COIN\n",
    "Left = [0,1]\n",
    "Vals = ['H', 'T']\n",
    "Probs = [1.0/2, 1.0/2]\n",
    "\n",
    "## Plot the probabilities\n",
    "fig = plt.figure()\n",
    "H = plt.bar(Left, Probs, align='center')\n",
    "H = plt.xticks(Left, Vals)\n",
    "H = plt.ylim((0,1))\n",
    "H = plt.title(\"Probabilities for a fair coin\")"
   ]
  },
  {
   "cell_type": "code",
   "execution_count": null,
   "metadata": {},
   "outputs": [],
   "source": [
    "## PROBABILITIES FOR OF AN UNFAIR COIN\n",
    "Left = [0,1]\n",
    "Vals = ['H', 'T']\n",
    "Probs = [1.0/3, 2.0/3]\n",
    "\n",
    "## Plot the histogram\n",
    "fig = plt.figure()\n",
    "H = plt.bar(Left, Probs, align='center')\n",
    "H = plt.xticks(Left, Vals)\n",
    "H = plt.ylim((0,1))\n",
    "H = plt.title(\"Probabilities for an unfair coin -- (1/3, 2/3)\")"
   ]
  },
  {
   "cell_type": "code",
   "execution_count": null,
   "metadata": {},
   "outputs": [],
   "source": [
    "## PROBABILITIES FOR A FAIR DIE\n",
    "n = 6\n",
    "Left = range(n)\n",
    "Vals = range(1,n+1)\n",
    "Probs = n * [1.0/n]\n",
    "\n",
    "## Plot the histogram\n",
    "fig = plt.figure()\n",
    "H = plt.bar(Left, Probs, align='center')\n",
    "H = plt.xticks(Left, Vals)\n",
    "H = plt.ylim((0,1))\n",
    "H = plt.title(\"Probabilities for a fair die\")"
   ]
  },
  {
   "cell_type": "code",
   "execution_count": null,
   "metadata": {},
   "outputs": [],
   "source": [
    "## PROBABILITIES FOR AN UNFAIR FAIR DIE\n",
    "n = 6\n",
    "Left = range(n)\n",
    "Vals = range(1,n+1)\n",
    "Probs = [1.0/20] + 4*[2.0/20] + [11.0/20]\n",
    "\n",
    "## Plot the histogram\n",
    "fig = plt.figure()\n",
    "H = plt.bar(Left, Probs, align='center')\n",
    "H = plt.xticks(Left, Vals)\n",
    "H = plt.ylim((0,1))\n",
    "H = plt.title(\"Probabilities for an unfair/weighted die\\n(1/20, 2/20, 2/20, 2/20, 2/20, 11/20)\")"
   ]
  },
  {
   "cell_type": "markdown",
   "metadata": {},
   "source": [
    "**Note:** Usually we talk about possibilities as having **numeric** values so we can compute useful numerical quantities to describe random variables."
   ]
  },
  {
   "cell_type": "code",
   "execution_count": null,
   "metadata": {},
   "outputs": [],
   "source": [
    "ones(5)"
   ]
  },
  {
   "cell_type": "markdown",
   "metadata": {},
   "source": [
    "### Compute the probabilities for a sum of n coins"
   ]
  },
  {
   "cell_type": "markdown",
   "metadata": {},
   "source": [
    "In the code below, we'll experiment with discrete probability distributions.\n",
    "\n",
    "We will use dictionaries to represent discrete probability distributions and we've written a bit of code to handle this. Make sure you understand what's happening underneath."
   ]
  },
  {
   "cell_type": "code",
   "execution_count": null,
   "metadata": {},
   "outputs": [],
   "source": [
    "## PROBABILITIES FOR A FAIR DIE\n",
    "def make_die(d=6):\n",
    "    \"\"\"makes a random variable dictionary for a fair die\"\"\"\n",
    "    \n",
    "    # this die is fair so we can start with ones\n",
    "    likelihood = np.ones(d)\n",
    "    # dividing by the sum ensures that everything adds to 1\n",
    "    prob = likelihood/np.sum(likelihood)\n",
    "    \n",
    "    # question: what's happening in this line?\n",
    "    RV = dict(zip(np.arange(1,d+1), prob))\n",
    "    \n",
    "    return RV\n",
    "\n",
    "print(make_die(d=4))"
   ]
  },
  {
   "cell_type": "markdown",
   "metadata": {},
   "source": [
    "**Check for understanding**: Make sure you understand what's happening in line 11 above. \n",
    "\n",
    "This is one way to make a dictionary (see https://docs.python.org/3/library/stdtypes.html#mapping-types-dict). How could you do this with another method?"
   ]
  },
  {
   "cell_type": "code",
   "execution_count": null,
   "metadata": {},
   "outputs": [],
   "source": [
    "def make_sum_of_two_variables(RV1, RV2):\n",
    "    \"\"\"makes RV dict for rolling RV1 and RV2 and adding the result together\"\"\"\n",
    "    \n",
    "    new_RV = {}\n",
    "    for v1 in RV1:\n",
    "        for v2 in RV2:            \n",
    "            # dict.get allows us to use a default value if the key is not present\n",
    "            new_RV[v1 + v2] = new_RV.get(v1 + v2, 0) + RV1[v1] * RV2[v2]\n",
    "\n",
    "    ## Rescale the probabilities to sum to one\n",
    "    inv_prob_sum = 1.0 / sum(list(new_RV.values()))\n",
    "    for k in new_RV:\n",
    "        new_RV[k] *= inv_prob_sum \n",
    "        \n",
    "    return new_RV\n",
    "\n",
    "print(make_die(d=2))\n",
    "print(make_sum_of_two_variables(make_die(d=2), make_die(d=2)))"
   ]
  },
  {
   "cell_type": "markdown",
   "metadata": {},
   "source": [
    "**Check for Understanding**: Can you explain what's happening in each line above?\n",
    "\n",
    "In line 8, we're accessing the value associated with the key `v1 + v2` in two different ways, one for assignment and another for retrieval. Why is this? What happens if you change either of these."
   ]
  },
  {
   "cell_type": "code",
   "execution_count": null,
   "metadata": {},
   "outputs": [],
   "source": [
    "def RV_pmf(RV, n=1, ax=None):\n",
    "    \"\"\" makes a scatter of the histogram\"\"\"\n",
    "    \n",
    "    # use zip to unzip a zipped list see https://docs.python.org/3/library/functions.html#zip\n",
    "    x, prob = list(zip(*RV.items()))\n",
    "    \n",
    "    # if there are more than 200 points, skip a few\n",
    "    if len(x) > 200:\n",
    "        skip = len(x)//200\n",
    "        x = x[::skip]\n",
    "        prob = prob[::skip]\n",
    "    \n",
    "    if ax:  \n",
    "        ax.scatter(x, prob, marker='.')\n",
    "        ax.set_ylabel(f\"Sum of {n} fair dice\")\n",
    "    else:\n",
    "        scatter(x, prob, marker='.')\n",
    "        title(f\"Probabilities for the sum of {n} fair dice\")\n"
   ]
  },
  {
   "cell_type": "code",
   "execution_count": null,
   "metadata": {},
   "outputs": [],
   "source": [
    "n_sums = 10 # number of times to combine dice\n",
    "\n",
    "D_list = [make_die()]\n",
    "for i in range(9):\n",
    "    D_list.append(make_sum_of_two_variables(D_list[-1], D_list[-1]))"
   ]
  },
  {
   "cell_type": "code",
   "execution_count": null,
   "metadata": {},
   "outputs": [],
   "source": [
    "k = 0\n",
    "RV_pmf(D_list[k],n = 2**k)"
   ]
  },
  {
   "cell_type": "code",
   "execution_count": null,
   "metadata": {},
   "outputs": [],
   "source": [
    "k = 1\n",
    "RV_pmf(D_list[k],n = 2**k)"
   ]
  },
  {
   "cell_type": "code",
   "execution_count": null,
   "metadata": {},
   "outputs": [],
   "source": [
    "k = 2\n",
    "RV_pmf(D_list[k],n = 2**k)"
   ]
  },
  {
   "cell_type": "code",
   "execution_count": null,
   "metadata": {},
   "outputs": [],
   "source": [
    "fix, axes = subplots(nrows=n_sums, figsize=(8,25))\n",
    "\n",
    "for i, ax in enumerate(axes.flat):\n",
    "    RV_pmf(D_list[i], n=2**i, ax=ax)"
   ]
  },
  {
   "cell_type": "markdown",
   "metadata": {},
   "source": [
    "## Examples of distributions"
   ]
  },
  {
   "cell_type": "markdown",
   "metadata": {},
   "source": [
    "### Uniform random variables\n",
    "\n",
    "A **uniform random variable** on the interval $[a,b]$ is any random variable $X$ with a probability density function satisfying\n",
    "$$ $$\n",
    "$$\n",
    "\\rho_X(x) = \\begin{cases}\n",
    "\\frac{1}{b-a} &\\qquad \\text{if $a \\leq x \\leq b$,} \\\\\n",
    "0 & \\qquad \\text{otherwise.}\n",
    "\\end{cases}\n",
    "$$\n",
    "\n",
    "<img width=400 \n",
    "src=\"https://upload.wikimedia.org/wikipedia/commons/9/96/Uniform_Distribution_PDF_SVG.svg\">\n",
    "\n",
    "This is the most common distribution that vanishes outside of a closed interval."
   ]
  },
  {
   "cell_type": "markdown",
   "metadata": {},
   "source": [
    "### Gaussian / Normal Distribution\n",
    "\n",
    "A **normal random variable** $\\mathcal{N}(\\mu, \\sigma^2)$ with mean $\\mu$ and variance $\\sigma^2>0$ is any random variable $X$ with a probability density function satisfying\n",
    "$$ $$\n",
    "$$\n",
    "\\rho_X(x) = \\frac{1}{\\sqrt{2\\pi}\\sigma} e^\\frac{-(x-\\mu)^2}{2\\sigma^2} = \\frac{1}{\\sqrt{2\\pi}\\sigma}\\exp\\left({\\frac{-(x-\\mu)^2}{2\\sigma^2}}\\right).\n",
    "$$\n",
    "\n",
    "<img width=400  src=\"https://upload.wikimedia.org/wikipedia/commons/7/74/Normal_Distribution_PDF.svg\">\n",
    "\n",
    "This is important for the Central Limit Theorem."
   ]
  },
  {
   "cell_type": "markdown",
   "metadata": {},
   "source": [
    "### Log-Gaussian\n",
    "A **log-normal random variable** with \"mean\" $\\mu$ and \"variance\" $\\sigma^2 > 0$ is any random variable $X$ with a probability density function satisfying\n",
    "$$ $$\n",
    "$$\n",
    "\\rho_X(x) \n",
    "= \\begin{cases}\n",
    "\\frac{1}{\\sqrt{2\\pi}x \\sigma} \n",
    "e^\\frac{-(\\ln(x)-\\mu)^2}{2\\sigma^2} & \\qquad \\text{if $x > 0$,}\n",
    "\\\\\n",
    "0 & \\qquad \\text{otherwise.}\n",
    "\\end{cases}\n",
    "$$\n",
    "\n",
    "<img width=\"400\" height=\"400\"\n",
    "src=\"https://upload.wikimedia.org/wikipedia/commons/a/ae/PDF-log_normal_distributions.svg\">\n",
    "\n"
   ]
  },
  {
   "cell_type": "markdown",
   "metadata": {},
   "source": [
    "### Exponential distribution\n",
    "An **exponential random variable** with parameter $\\lambda > 0$ is any random variable $X$ with a probability density function satisfying\n",
    "$$ $$\n",
    "$$\n",
    "\\rho_X(x) = \n",
    "\\begin{cases}\n",
    "λ e^{−λx} = \\lambda \\exp(-\\lambda x) &\\qquad \\text{if $x \\geq 0$,} \\\\\n",
    "0 & \\qquad \\text{otherwise.}\n",
    "\\end{cases}\n",
    "$$\n",
    "\n",
    "<img width=\"400\" height=\"400\"\n",
    "src=\"https://upload.wikimedia.org/wikipedia/commons/e/ec/Exponential_pdf.svg\">\n",
    "\n",
    "Here $\\lambda$ is called the **rate parameter**, and this is often used to describe the time between occurences of events."
   ]
  },
  {
   "cell_type": "markdown",
   "metadata": {},
   "source": [
    "### Poisson distribution -- a useful discrete random variable\n",
    "A **Poisson random variable** with parameter $\\lambda > 0$ is any random variable $X$ with a probability density function satisfying\n",
    "$$ $$\n",
    "$$\n",
    "\\rho_X(k) = \\begin{cases}\n",
    "\\frac{\\lambda^k}{e^\\lambda \\cdot k!} &\\qquad \\text{if $k$ is a non-negative integer,} \\\\\n",
    "0 & \\qquad \\text{otherwise.}\n",
    "\\end{cases}\n",
    "$$\n",
    "\n",
    "<img width=\"400\" height=\"400\"\n",
    "src=\"https://upload.wikimedia.org/wikipedia/commons/1/16/Poisson_pmf.svg\">\n",
    "\n",
    "\n",
    "This is often used to describe the number of events that occur in a given amount of time."
   ]
  },
  {
   "cell_type": "code",
   "execution_count": null,
   "metadata": {},
   "outputs": [],
   "source": []
  },
  {
   "cell_type": "markdown",
   "metadata": {},
   "source": [
    "## Independent random variables\n",
    "\n",
    "Two random varaiables $X$ and $Y$ are called **independent** if for any two intervals $I_1$ and $I_2$ we have that \n",
    "$$ $$\n",
    "$$\n",
    "P(X \\in I_1 \\text{ and } Y \\in I_2) \n",
    "= \\int_{x \\in I_1} \\int_{y \\in I_2} \\rho_X(x) \\rho_Y(y)\\, dx\\, dy.\n",
    "$$\n",
    "\n",
    "In other words the random variables $X$ and $Y$ are independent if their **joint probability density** $\\rho_{X,Y}(x,y)$ has the form\n",
    "$$ $$\n",
    "$$\\rho_{X,Y}(x,y) =\\rho_X(x) \\rho_Y(y).$$\n",
    "\n",
    "Otherwise we say that $X$ and $Y$ are **dependent**"
   ]
  },
  {
   "cell_type": "code",
   "execution_count": null,
   "metadata": {},
   "outputs": [],
   "source": []
  },
  {
   "cell_type": "markdown",
   "metadata": {},
   "source": [
    "## Useful quantities\n",
    "\n",
    "- **Expected Value / Mean**\n",
    "$$ $$\n",
    "$$ E(X) := \\int_{x \\in \\mathbb{R}} x \\cdot \\rho_X(x) \\, dx $$\n",
    "    \n",
    "- **Variance**\n",
    "$$ $$\n",
    "\\begin{align} \n",
    "Var(X) := (\\sigma_x)^2 &:= E\\left((X - E(X))^2\\right) \n",
    "\\\\\n",
    "&= \\int_{x \\in \\mathbb{R}} (x - E(X))^2 \\cdot \\rho_X(x) \\, dx \\geq 0\n",
    "\\end{align}\n",
    "\n",
    "- **Standard Deviation**\n",
    "$$ $$\n",
    "$$\\sigma_x := \\sqrt{Var(X)} \\geq 0$$\n"
   ]
  },
  {
   "cell_type": "markdown",
   "metadata": {},
   "source": [
    "The transition from discrete to continuous random variables is essentially to replace\n",
    "$$ $$\n",
    "$$\\sum_\\text{values $x$ of $X$} P(X=x) \\times (\\text{Blah})$$ \n",
    "with \n",
    "$$ $$\n",
    "$$\\int_{x\\in \\mathbb{R}} (\\text{Blah}) \\cdot \\rho_X(x)\\, dx$$\n",
    "in all of the formulas!"
   ]
  },
  {
   "cell_type": "markdown",
   "metadata": {},
   "source": [
    "For two random variables $X$ and $Y$, their **covariance** is given by the formula\n",
    "$$ $$\n",
    "$$\n",
    "\\int_{x \\in \\mathbb{R}} \\int_{y \\in \\mathbb{R}}\n",
    "(x - E(X))(y - E(Y)) \\cdot \\rho_{X\\times Y}(x,y) \\, dy \\, dx\n",
    "$$\n",
    "$$ $$\n",
    "which can also be written more simply as \n",
    "$$ $$\n",
    "$$\n",
    "E\\left((X - E(X))(Y - E(Y))\\right).\n",
    "$$\n"
   ]
  },
  {
   "cell_type": "code",
   "execution_count": null,
   "metadata": {},
   "outputs": [],
   "source": []
  },
  {
   "cell_type": "markdown",
   "metadata": {},
   "source": [
    "# Play with some functions"
   ]
  },
  {
   "cell_type": "code",
   "execution_count": null,
   "metadata": {},
   "outputs": [],
   "source": [
    "import math"
   ]
  },
  {
   "cell_type": "markdown",
   "metadata": {},
   "source": [
    "** Function Definitions **"
   ]
  },
  {
   "cell_type": "code",
   "execution_count": null,
   "metadata": {},
   "outputs": [],
   "source": [
    "def normal(x,mu,sig):\n",
    "    return 1/(np.sqrt(2*3.14159)*sig)*np.exp(-(x-mu)**2/(2*sig**2))\n",
    "x = np.linspace(-10,10,num=1000)\n",
    "y = normal(x,2,1.0)\n",
    "y2 = normal(x,3,1.5)\n",
    "y3 = normal(x,-3,3)\n",
    "plt.plot(x,y,'b',x,y2,'r',x,y3,'k');"
   ]
  },
  {
   "cell_type": "code",
   "execution_count": null,
   "metadata": {},
   "outputs": [],
   "source": [
    "def log_normal(x,mu,sig):\n",
    "    return 1/(np.sqrt(2*3.14159)*sig*x)*np.exp(-(np.log(x)-mu)**2/(2*sig**2))\n",
    "x = np.linspace(0,2.5,num=1000)\n",
    "y = log_normal(x,0,0.25)\n",
    "plt.plot(x,y,'b');"
   ]
  },
  {
   "cell_type": "code",
   "execution_count": null,
   "metadata": {},
   "outputs": [],
   "source": [
    "def poisson(klist,lam):\n",
    "    result=[]\n",
    "    for k in klist:\n",
    "        result.append(np.exp(-lam)*lam**k/math.factorial(k))\n",
    "    return result\n",
    "k = range(40)\n",
    "y = poisson(k,15)\n",
    "scatter(k,y, marker='.');"
   ]
  },
  {
   "cell_type": "code",
   "execution_count": null,
   "metadata": {},
   "outputs": [],
   "source": [
    "def exp_dist(x, lam):\n",
    "    return lam*np.exp(-lam*x)\n",
    "\n",
    "x = np.linspace(0,10,num=1000)\n",
    "y = exp_dist(x,0.5)\n",
    "plt.plot(x,y,'b');"
   ]
  },
  {
   "cell_type": "code",
   "execution_count": null,
   "metadata": {},
   "outputs": [],
   "source": []
  }
 ],
 "metadata": {
  "kernelspec": {
   "display_name": "Python 3",
   "language": "python",
   "name": "python3"
  },
  "language_info": {
   "codemirror_mode": {
    "name": "ipython",
    "version": 3
   },
   "file_extension": ".py",
   "mimetype": "text/x-python",
   "name": "python",
   "nbconvert_exporter": "python",
   "pygments_lexer": "ipython3",
   "version": "3.7.1"
  }
 },
 "nbformat": 4,
 "nbformat_minor": 2
}
