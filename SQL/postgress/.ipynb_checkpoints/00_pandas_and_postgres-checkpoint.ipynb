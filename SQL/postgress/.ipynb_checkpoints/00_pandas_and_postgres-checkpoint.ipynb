{
 "cells": [
  {
   "cell_type": "markdown",
   "metadata": {},
   "source": [
    "# Pandas and postgres\n",
    "\n",
    "We are going to show how we can get Pandas (and more generally, Python) to interact with the information in our PostgreSQL database. We are going to look at two different techniques:\n",
    "- SQL functionality built into Pandas\n",
    "  This will mostly be used when doing SELECTs. We will be able to get the infomation from our database and put it directly into a pandas dataframe.\n",
    "- A cursor based method\n",
    "  This is a method for executing arbitrary queries on our database (e.g. adding tables, INSERTing values, UPDATEs, or DELETEs). It can also be useful if we are pulling down a lot of data, as the cursor can fetch part of the data at a time (so we can process it as we go). The Pandas method pulls down the query all at once.\n",
    "\n",
    "To build our skills using Python and Postgres, we are going to look at the `names` database we have already uploaded."
   ]
  },
  {
   "cell_type": "code",
   "execution_count": null,
   "metadata": {},
   "outputs": [],
   "source": [
    "# Get pandas and postgres to work together\n",
    "import psycopg2 as pg\n",
    "import pandas as pd\n",
    "import pandas.io.sql as pd_sql\n",
    "\n",
    "# We are also going to do some basic viz\n",
    "import matplotlib.pyplot as plt\n",
    "%matplotlib inline"
   ]
  },
  {
   "cell_type": "code",
   "execution_count": null,
   "metadata": {},
   "outputs": [],
   "source": [
    "# There is a bug in matplotlib. You cannot set the rc parameters in the same\n",
    "# cell that you use the \"%matplotlib inline\" magic command\n",
    "plt.style.use('ggplot')\n",
    "plt.rc('font', size=18)"
   ]
  },
  {
   "cell_type": "code",
   "execution_count": null,
   "metadata": {},
   "outputs": [],
   "source": [
    "# Postgres info to connect\n",
    "\n",
    "connection_args = {\n",
    "    'host': 'localhost',  # We are connecting to our _local_ version of psql\n",
    "    'dbname': 'names',    # DB that we are connecting to\n",
    "    'port': 5432          # port we opened on AWS\n",
    "}\n",
    "\n",
    "# We will talk about this magic Python trick!\n",
    "connection = pg.connect(**connection_args)"
   ]
  },
  {
   "cell_type": "markdown",
   "metadata": {},
   "source": [
    "See the [python tutorial](https://docs.python.org/3/tutorial/controlflow.html#unpacking-argument-lists) for more info on unpacking arguments"
   ]
  },
  {
   "cell_type": "markdown",
   "metadata": {},
   "source": [
    "## Pandas and the read_sql command\n",
    "\n",
    "Let's look through the `regions` table: "
   ]
  },
  {
   "cell_type": "code",
   "execution_count": null,
   "metadata": {},
   "outputs": [],
   "source": [
    "query = \"SELECT * FROM region;\"\n",
    "\n",
    "pd_sql.read_sql(query, connection)"
   ]
  },
  {
   "cell_type": "markdown",
   "metadata": {},
   "source": [
    "This is pretty cool! We even get the column names to match! Notice that we have some problems with the states. For example, there are not enough of them AND `RI` is still in the `Midwest`! We will come back and fix these errors when we look at the cursor methods later.\n",
    "\n",
    "For right now, let's look at a slightly more advanced SQL query. We checked in `psql` that the number of Alice's had been dropping off a couple of years ago. Let's make a line plot of\n",
    "* Year (x axis)\n",
    "* Total number of people named Alice (y axis)"
   ]
  },
  {
   "cell_type": "code",
   "execution_count": null,
   "metadata": {},
   "outputs": [],
   "source": [
    "query_alice = \"\"\"\n",
    "    SELECT year, sum(freq) as num_damien\n",
    "        FROM name_freq\n",
    "        WHERE name='Damien'\n",
    "        GROUP BY name, year\n",
    "        ORDER BY year\n",
    "\"\"\"\n",
    "\n",
    "alice_df = pd_sql.read_sql(query_alice, connection)"
   ]
  },
  {
   "cell_type": "code",
   "execution_count": null,
   "metadata": {},
   "outputs": [],
   "source": [
    "alice_df.head()"
   ]
  },
  {
   "cell_type": "code",
   "execution_count": null,
   "metadata": {},
   "outputs": [],
   "source": [
    "alice_df.plot(x='year', y='num_damien', figsize=(16, 10))\n",
    "#\n",
    "# Can also do\n",
    "# plt.plot(alice_df['year'], alice_df['num_alice'], 'r-')\n",
    "plt.title(\"Number of Damien's born in the US per year\");"
   ]
  },
  {
   "cell_type": "markdown",
   "metadata": {},
   "source": [
    "## Using the cursor method\n",
    "\n",
    "The pandas method above is cool, as it allows you to pull data down from PostgreSQL directly into a dataframe. It pulls everything at once, which is convinient if you have small datasets. If your datasets are large (i.e. 100s MB to TB), you probably want to batch your data requests.\n",
    "\n",
    "**Note**: This cell will almost certainly become dated. Students in the 2022 cohort will think \"100MB is large? How quaint.\" C'est la vie.\n",
    "\n",
    "Here is a mental model of a cursor. We are trying to execute\n",
    "```sql\n",
    "SELECT * FROM regions;\n",
    "```\n",
    "with a cursor. The cursor `executes` and finds the index of the \"first\" row:\n",
    "```\n",
    "Database                Where the cursor is\n",
    ".... record 0 ..... <--- cursor (i.e. cursor remembers 0)\n",
    ".... record 1 .....\n",
    ".... record 2 .....\n",
    ".... ........ .....\n",
    ".... record N .....\n",
    "```\n",
    "We can tell the cursor to `fetch` a record. It will return the record it is pointing at (in this case, record 0), and move to the next one.\n",
    "```\n",
    "After a call to cursor.fetch()\n",
    "\n",
    "Database                Where the cursor is\n",
    ".... record 0 ..... \n",
    ".... record 1 ..... <--- cursor (i.e. cursor remembers 1) \n",
    ".... record 2 .....\n",
    ".... ........ .....\n",
    ".... record N .....\n",
    "\n",
    "Cursor has returned record 0\n",
    "```\n",
    "We can keep calling fetch until the cursor tells us there are no more records.\n",
    "\n",
    "**Mental model:**\n",
    "A cursor (for a select) acts like a \"bookmark\" in your table."
   ]
  },
  {
   "cell_type": "code",
   "execution_count": null,
   "metadata": {},
   "outputs": [],
   "source": [
    "# make a cursor\n",
    "cursor = connection.cursor()\n",
    "\n",
    "# make a query (sets the cursor pointing at the first record)\n",
    "cursor.execute(\"SELECT * FROM region;\")"
   ]
  },
  {
   "cell_type": "code",
   "execution_count": null,
   "metadata": {},
   "outputs": [],
   "source": [
    "# Nothing has been returned yet. Let's fetch a result\n",
    "cursor.fetchone()"
   ]
  },
  {
   "cell_type": "code",
   "execution_count": null,
   "metadata": {},
   "outputs": [],
   "source": [
    "# Let's grab the next one as well\n",
    "cursor.fetchone()"
   ]
  },
  {
   "cell_type": "code",
   "execution_count": null,
   "metadata": {},
   "outputs": [],
   "source": [
    "# Ok, now let's get the next 3\n",
    "cursor.fetchmany(3)"
   ]
  },
  {
   "cell_type": "code",
   "execution_count": null,
   "metadata": {},
   "outputs": [],
   "source": [
    "# .... and the rest of them\n",
    "cursor.fetchall()"
   ]
  },
  {
   "cell_type": "markdown",
   "metadata": {},
   "source": [
    "We can use a loop to iterate through all the results"
   ]
  },
  {
   "cell_type": "code",
   "execution_count": null,
   "metadata": {},
   "outputs": [],
   "source": [
    "cursor.fetchone()"
   ]
  },
  {
   "cell_type": "code",
   "execution_count": null,
   "metadata": {},
   "outputs": [],
   "source": [
    "query_midwest = \"\"\"\n",
    "SELECT * FROM region WHERE region='Midwest'\n",
    "\"\"\"\n",
    "\n",
    "# Reuse our cursor to point at the first result.\n",
    "\n",
    "cursor.execute(query_midwest)\n",
    "\n",
    "# Each iteration will call 'fetchone' on the cursor\n",
    "for result in cursor:\n",
    "    message = \"State {} is in the best region in the US\".format(result[0])\n",
    "    print(message)"
   ]
  },
  {
   "cell_type": "markdown",
   "metadata": {},
   "source": [
    "Hey, wait a second ..... what is Rhode Island doing in there? Yesterday we moved RI to the Midwest. Let's fix that using an UPDATE.\n"
   ]
  },
  {
   "cell_type": "code",
   "execution_count": null,
   "metadata": {},
   "outputs": [],
   "source": [
    "query_fix_RI = \"\"\"\n",
    "UPDATE region SET region='New_England' WHERE state='RI'\n",
    "\"\"\"\n",
    "\n",
    "cursor.execute(query_fix_RI)"
   ]
  },
  {
   "cell_type": "code",
   "execution_count": null,
   "metadata": {},
   "outputs": [],
   "source": [
    "#  Let's check the result\n",
    "cursor.execute(query_midwest)\n",
    "\n",
    "for result in cursor:\n",
    "    message = \"State {} is in the best region in the US\".format(result[0])\n",
    "    print(message)"
   ]
  },
  {
   "cell_type": "markdown",
   "metadata": {},
   "source": [
    "Yay! We moved Rhode Island back to its correct location!\n",
    "\n",
    "\n",
    "....or did we? Let's jump to `psql` in our AWS terminal. At the terminal, start `psql`:\n",
    "```bash\n",
    "ubuntu@ip-xxx.xxx.xxx.xxx: psql\n",
    "```\n",
    "\n",
    "Then in `psql`, run the following commands\n",
    "```sql\n",
    "postgres=# \\connect names;\n",
    "names=# SELECT * FROM regions WHERE state='RI';\n",
    "```\n",
    "The result that I get is \n",
    "\n",
    "| state | region |\n",
    "|---|---|\n",
    "| RI    | Midwest|\n",
    "\n",
    "Let's check in Python again:"
   ]
  },
  {
   "cell_type": "code",
   "execution_count": null,
   "metadata": {},
   "outputs": [],
   "source": [
    "cursor.execute(\"SELECT * FROM region WHERE state='RI'\")\n",
    "cursor.fetchall()"
   ]
  },
  {
   "cell_type": "markdown",
   "metadata": {},
   "source": [
    "Wat!!?!?!?!?!\n",
    "\n",
    "<img width='300px' src='./images/vader_nonsense.jpg'/>"
   ]
  },
  {
   "cell_type": "markdown",
   "metadata": {},
   "source": [
    "## Commits and rollbacks\n",
    "\n",
    "When we execute a command in `psql`, it alters the underlying data immediately. __Most__ of the time, when executing commands from Python, it will make the changes off to the side, and wait for you to __commit__ those changes. If you have decided that you made a mistake, you can decide to __rollback__ those changes.\n",
    "\n",
    "This is similar to `git` - the \"master\" copy on the database only changes when you \"commit\" your change. \n",
    "\n",
    "There are a few things that __will__ be executed immediately without commits:\n",
    "- Making tables\n",
    "- Making views\n",
    "- Dropping tables\n",
    "- Dropping views\n",
    "- Dropping databases\n",
    "You won't be able to rewind from making these changes.\n",
    "\n",
    "Note that if you are doing `SELECT`s, you are not changing the underlying data so you don't care about commiting or not."
   ]
  },
  {
   "cell_type": "code",
   "execution_count": null,
   "metadata": {},
   "outputs": [],
   "source": [
    "# We are really sure that Rhode Island is in the midwest. Let's commit.\n",
    "\n",
    "cursor.execute('commit;')"
   ]
  },
  {
   "cell_type": "markdown",
   "metadata": {},
   "source": [
    "Now go back to `psql` (on AWS) and see if it changed:\n",
    "```sql\n",
    "names=# SELECT * FROM regions WHERE state='RI';\n",
    "```\n",
    "\n",
    "You should get the following:\n",
    "\n",
    "| state |   region    |\n",
    "|-------|-------------|\n",
    "| RI    | New_England |\n",
    "\n",
    "Success!!"
   ]
  },
  {
   "cell_type": "markdown",
   "metadata": {},
   "source": [
    "### Warning!\n",
    "\n",
    "Once you have committed a cursor, it will keep auto-commiting. This is annoying. \n",
    "\n",
    "After doing a commit, you start a new transaction using a \"BEGIN\" command. Then you can decide to commit or rollback a transaction. "
   ]
  },
  {
   "cell_type": "code",
   "execution_count": null,
   "metadata": {},
   "outputs": [],
   "source": [
    "# Let's make a mistake, but since we have committed already we should\n",
    "# start a transaction explicitly.\n",
    "cursor.execute('BEGIN;')\n",
    "\n",
    "il_in_wrong_place = \"\"\"\n",
    "  UPDATE region SET region='South' WHERE state='IL'\n",
    "\"\"\"\n",
    "\n",
    "# put Illinios in the wrong region\n",
    "cursor.execute(il_in_wrong_place)\n",
    "\n",
    "# check to see what we have done\n",
    "cursor.execute(\"SELECT * FROM region WHERE state='IL'\")\n",
    "cursor.fetchall()"
   ]
  },
  {
   "cell_type": "markdown",
   "metadata": {},
   "source": [
    "**Question**: What will we get when we run\n",
    "```sql\n",
    "SELECT * FROM regions WHERE state='IL';\n",
    "```\n",
    "on PostgreSQL? Try it!"
   ]
  },
  {
   "cell_type": "code",
   "execution_count": null,
   "metadata": {},
   "outputs": [],
   "source": [
    "cursor.execute('rollback;')"
   ]
  },
  {
   "cell_type": "code",
   "execution_count": null,
   "metadata": {},
   "outputs": [],
   "source": [
    "# check to see what we have done\n",
    "cursor.execute(\"SELECT * FROM region WHERE state='IL'\")\n",
    "cursor.fetchall()"
   ]
  },
  {
   "cell_type": "markdown",
   "metadata": {},
   "source": [
    "### Sad cursors\n",
    "\n",
    "Typos happen. It's part of life. If we make a mistake in `psql`, then PostgreSQL yells at us, but we can try again and get on with our lives. PostgreSQL cursors freak out, and we have to explicit roll them back."
   ]
  },
  {
   "cell_type": "code",
   "execution_count": null,
   "metadata": {},
   "outputs": [],
   "source": [
    "cursor.execute('BEGIN;')\n",
    "\n",
    "query_error = \"\"\"\n",
    "SELECT * FROM name_typo_freq WHERE name='Alice' AND state='IL';\n",
    "\"\"\"\n",
    "\n",
    "query_correct = \"\"\"\n",
    "SELECT * FROM name_freq WHERE name='Alice' AND state='IL';\n",
    "\"\"\"\n",
    "\n",
    "# Let's run the bad query:\n",
    "cursor.execute(query_error)"
   ]
  },
  {
   "cell_type": "code",
   "execution_count": null,
   "metadata": {},
   "outputs": [],
   "source": [
    "# Ok, it correctly figured out my table is wrong. No problem!\n",
    "# We know what the correct query is, so let's execute that instead\n",
    "cursor.execute(query_correct)"
   ]
  },
  {
   "cell_type": "code",
   "execution_count": null,
   "metadata": {},
   "outputs": [],
   "source": [
    "# We have a sad cursor! We need to fix it with a rollback:\n",
    "# check to see what we have done\n",
    "cursor.execute(\"rollback;\")"
   ]
  },
  {
   "cell_type": "code",
   "execution_count": null,
   "metadata": {},
   "outputs": [],
   "source": [
    "cursor.execute(query_correct)"
   ]
  },
  {
   "cell_type": "code",
   "execution_count": null,
   "metadata": {},
   "outputs": [],
   "source": [
    "# Success! Let's look at the top 5 results\n",
    "cursor.fetchmany(5)"
   ]
  },
  {
   "cell_type": "markdown",
   "metadata": {},
   "source": [
    "## SQL practice\n",
    "\n",
    "\n",
    "We still have the SQL exercises from last time to work through. \n",
    "\n",
    "1. Gentle start with SELECTs:\n",
    "  Find the total number of children born in the US between 2000 and 2010. i.e you should have one number.\n",
    "2. Find the number of children born in the US between 2000 and 2010, broken down by region. i.e. you should have 6 numbers.\n",
    "3. Find the number of children born for each year between 2000 and 2010, in each region (i.e. you should have 60 numbers returned). Put these in a dataframe. We can try and plot them (a line graph like the Alice's, but one line per region).\n",
    "4. Okay, let's clean up the data in a way that doesn't use a SELECT. We have a missing state! Find which state is missing.\n",
    "  Hint #1: You can use 'SELECT DISTINCT(state) FROM name_freq' to get a list of all 50 states + DC.\n",
    "  Hint #2: You should take regions and JOIN the list above on state. You should chose a LEFT or RIGHT JOIN so you keep the nulls\n",
    "  Hint #3: In SQL, trying `variable=null` doesn't work (null is not equal to itself, to help us not match missing data to other missing data). When looking for null values, use `WHERE variable IS null` instead."
   ]
  },
  {
   "cell_type": "code",
   "execution_count": null,
   "metadata": {},
   "outputs": [],
   "source": []
  }
 ],
 "metadata": {
  "language_info": {
   "codemirror_mode": {
    "name": "ipython",
    "version": 3
   },
   "file_extension": ".py",
   "mimetype": "text/x-python",
   "name": "python",
   "nbconvert_exporter": "python",
   "pygments_lexer": "ipython3",
   "version": "3.6.5"
  }
 },
 "nbformat": 4,
 "nbformat_minor": 2
}
