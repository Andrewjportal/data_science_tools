{
 "cells": [
  {
   "cell_type": "markdown",
   "metadata": {},
   "source": [
    "# Window functions in SQL\n",
    "\n",
    "We are going to look at the concept of _window fucntions_ in SQL. The basic idea is we use a window function when we need to use information that is not in the current row to calculate the current row. \n",
    "\n",
    "We will show how to use the same type of problems using\n",
    "- pandas\n",
    "- group by and joins in SQL\n",
    "- subselects in SQL\n",
    "- ... and finally window functions"
   ]
  },
  {
   "cell_type": "markdown",
   "metadata": {},
   "source": [
    "## Getting the data in df and postgres"
   ]
  },
  {
   "cell_type": "code",
   "execution_count": null,
   "metadata": {},
   "outputs": [],
   "source": [
    "import pandas as pd\n",
    "\n",
    "df = pd.read_csv('salaries.csv')\n",
    "\n",
    "df"
   ]
  },
  {
   "cell_type": "code",
   "execution_count": null,
   "metadata": {},
   "outputs": [],
   "source": [
    "from psycopg2 import connect\n",
    "from psycopg2.extensions import ISOLATION_LEVEL_AUTOCOMMIT\n",
    "\n",
    "params = {\n",
    "    'host': '18.220.115.81',\n",
    "    'user': 'ubuntu',\n",
    "    'port': 5432\n",
    "}\n",
    "\n",
    "# Connect and create database, disconnect, and reconnect to the right database\n",
    "connection = connect(**params, dbname='ubuntu')\n",
    "connection.set_isolation_level(ISOLATION_LEVEL_AUTOCOMMIT)\n",
    "connection.cursor().execute('CREATE DATABASE store;')\n",
    "connection.close()"
   ]
  },
  {
   "cell_type": "code",
   "execution_count": null,
   "metadata": {},
   "outputs": [],
   "source": [
    "# This is a different way of creating tables\n",
    "# It is convinient if there are many columns\n",
    "from sqlalchemy import create_engine\n",
    "connection_string = f'postgres://ubuntu:{params[\"host\"]}@{params[\"host\"]}:{params[\"port\"]}/store'\n",
    "engine = create_engine(connection_string)\n",
    "df.to_sql('sale', engine, index=False)"
   ]
  },
  {
   "cell_type": "code",
   "execution_count": null,
   "metadata": {},
   "outputs": [],
   "source": [
    "connection = connect(**params, dbname='store')\n",
    "cursor = connection.cursor()\n",
    "cursor.execute(\"SELECT * FROM sale;\")\n",
    "cursor.fetchall()"
   ]
  },
  {
   "cell_type": "markdown",
   "metadata": {},
   "source": [
    "## Question: For each person, give the salary as a fraction of the highest paid person in that department.\n",
    "\n",
    "Note that each row contains the salary and department, but it _doesn't_ contain the highest pay in that category. We need to look at other rows. Let's start by looking for the highest pay per department:"
   ]
  },
  {
   "cell_type": "markdown",
   "metadata": {},
   "source": [
    "### Method 1: joining with DF"
   ]
  },
  {
   "cell_type": "code",
   "execution_count": null,
   "metadata": {},
   "outputs": [],
   "source": [
    "highest_dept = df.groupby('dept').salary.max()\n",
    "highest_dept = pd.DataFrame(highest_dept).reset_index().rename(columns={'salary': 'highest_salary_in_dept'})\n",
    "highest_dept"
   ]
  },
  {
   "cell_type": "markdown",
   "metadata": {},
   "source": [
    "Here is the long way: \n",
    "1. `Groupby` to get the aggregate information in a new series / df\n",
    "2. Join on `dept` to get the max salary\n",
    "3. Then manpiulate columns"
   ]
  },
  {
   "cell_type": "code",
   "execution_count": null,
   "metadata": {},
   "outputs": [],
   "source": [
    "# merges on the columns that have the same name (in this case, dept)\n",
    "df_merge1 = pd.merge(df,highest_dept)\n",
    "df_merge1"
   ]
  },
  {
   "cell_type": "code",
   "execution_count": null,
   "metadata": {},
   "outputs": [],
   "source": [
    "df_merge1['fraction_of_highest'] = (df_merge1['salary'] / \n",
    "                                    df_merge1['highest_salary_in_dept'])\n",
    "df_merge1"
   ]
  },
  {
   "cell_type": "markdown",
   "metadata": {},
   "source": [
    "#### Exercise 1:\n",
    "\n",
    "Give each person's salary as a fraction of then _entire_ department salary budget\n",
    "(e.g. employee1 has a salary of 5000, and the sales department has a total salary budget of 5000 + 4800 + 7800 = 14500, so we would expect this row to have 5000/14500 = 0.345)"
   ]
  },
  {
   "cell_type": "code",
   "execution_count": null,
   "metadata": {},
   "outputs": [],
   "source": []
  },
  {
   "cell_type": "markdown",
   "metadata": {},
   "source": [
    "### Method 2: Using pandas `transform`"
   ]
  },
  {
   "cell_type": "code",
   "execution_count": null,
   "metadata": {},
   "outputs": [],
   "source": [
    "df2 = df.copy()\n",
    "df2"
   ]
  },
  {
   "cell_type": "code",
   "execution_count": null,
   "metadata": {},
   "outputs": [],
   "source": [
    "# Transform:\n",
    "# Apply a function to a grouped series, and return the result for the group to each row\n",
    "df2.groupby('dept').salary.transform(max)"
   ]
  },
  {
   "cell_type": "code",
   "execution_count": null,
   "metadata": {},
   "outputs": [],
   "source": [
    "# Save the result, and write using a lambda function for clarity\n",
    "df2['highest_salary_in_dept'] = df2.groupby('dept').salary.transform(lambda dept: max(dept))"
   ]
  },
  {
   "cell_type": "code",
   "execution_count": null,
   "metadata": {},
   "outputs": [],
   "source": [
    "df2"
   ]
  },
  {
   "cell_type": "code",
   "execution_count": null,
   "metadata": {},
   "outputs": [],
   "source": [
    "# now get the fraction\n",
    "df2['fraction_of_highest'] = (df2['salary'] / \n",
    "                              df2['highest_salary_in_dept'])\n",
    "\n",
    "df2"
   ]
  },
  {
   "cell_type": "markdown",
   "metadata": {},
   "source": [
    "#### Exercise 2\n",
    "\n",
    "Redo exercise 1, giving each person's salary as a fraction of then entire department salary budget, using this new method"
   ]
  },
  {
   "cell_type": "code",
   "execution_count": null,
   "metadata": {},
   "outputs": [],
   "source": []
  },
  {
   "cell_type": "code",
   "execution_count": null,
   "metadata": {},
   "outputs": [],
   "source": []
  },
  {
   "cell_type": "markdown",
   "metadata": {},
   "source": [
    "## Method 3: GROUPBY/JOIN in SQL:"
   ]
  },
  {
   "cell_type": "code",
   "execution_count": null,
   "metadata": {},
   "outputs": [],
   "source": [
    "query = \"\"\"\n",
    "WITH dept_info AS (\n",
    "  SELECT dept, max(salary) AS max_salary, sum(salary) as salary_budget FROM sale\n",
    "  GROUP BY dept\n",
    ")\n",
    "\n",
    "SELECT sale.*, max_salary, CAST(salary AS DOUBLE PRECISION)/max_salary as max_frac  \n",
    "  FROM sale LEFT JOIN dept_info ON sale.dept = dept_info.dept;\n",
    "\"\"\"\n",
    "\n",
    "cursor.execute(query)\n",
    "cursor.fetchall()"
   ]
  },
  {
   "cell_type": "code",
   "execution_count": null,
   "metadata": {},
   "outputs": [],
   "source": []
  },
  {
   "cell_type": "markdown",
   "metadata": {},
   "source": [
    "### Method 4: Using a window function\n",
    "\n",
    "A window function are limited in number, and are used to generate a column (i.e. they occur between `SELECT` and `FROM`). They are of the form\n",
    "```sql\n",
    "...\n",
    "  function OVER (PARTION BY ..... ORDER BY ......[ACS or DESC])\n",
    "```\n",
    "where `function` is the _window function_. We perform aggregations on the records that are inside the window.\n",
    "\n",
    "* `PARTITION` is tells you what is included in the window\n",
    "* `ORDER BY` tells us the order that appears in the window. For `max`, this doesn't matter (but we will see some examples where if does)"
   ]
  },
  {
   "cell_type": "code",
   "execution_count": null,
   "metadata": {},
   "outputs": [],
   "source": [
    "# Example of max used\n",
    "query=\"\"\"\n",
    "  SELECT *, max(salary) OVER (PARTITION BY dept) FROM sale;\n",
    "\"\"\"\n",
    "\n",
    "cursor.execute(query)\n",
    "cursor.fetchall()"
   ]
  },
  {
   "cell_type": "code",
   "execution_count": null,
   "metadata": {},
   "outputs": [],
   "source": [
    "# Can also solve the problem\n",
    "query=\"\"\"\n",
    "  SELECT *, \n",
    "        CAST(salary AS DOUBLE PRECISION)/max(salary) OVER (PARTITION BY dept) AS fraction_of_max\n",
    "        FROM sale;\n",
    "\"\"\"\n",
    "\n",
    "cursor.execute(query)\n",
    "cursor.fetchall()"
   ]
  },
  {
   "cell_type": "markdown",
   "metadata": {},
   "source": [
    "If the window makes the function long, we can make the window as an alias"
   ]
  },
  {
   "cell_type": "code",
   "execution_count": null,
   "metadata": {},
   "outputs": [],
   "source": [
    "# same query again:\n",
    "query = \"\"\"\n",
    "SELECT *, CAST(salary AS DOUBLE PRECISION)/max(salary) OVER my_window FROM SALE\n",
    "  WINDOW my_window AS (PARTITION BY dept)\n",
    "\"\"\"\n",
    "\n",
    "cursor.execute(query)\n",
    "cursor.fetchall()"
   ]
  },
  {
   "cell_type": "markdown",
   "metadata": {},
   "source": [
    "## Other examples of window functions\n",
    "\n",
    "We can also use window fucntions that are cumulative. \n",
    "\n",
    "### rank()\n",
    "\n",
    "Let's look at the top 3 earners in each category"
   ]
  },
  {
   "cell_type": "code",
   "execution_count": null,
   "metadata": {},
   "outputs": [],
   "source": [
    "# first attempt: get the ranks\n",
    "query = \"\"\"\n",
    "SELECT *, rank() OVER my_window as the_rank FROM sale\n",
    "  WINDOW my_window AS (PARTITION BY dept ORDER BY salary DESC)\n",
    "\"\"\"\n",
    "\n",
    "cursor.execute(query)\n",
    "cursor.fetchall()"
   ]
  },
  {
   "cell_type": "code",
   "execution_count": null,
   "metadata": {},
   "outputs": [],
   "source": []
  },
  {
   "cell_type": "code",
   "execution_count": null,
   "metadata": {},
   "outputs": [],
   "source": [
    "# This fails .... where can be tricky. Column \"the_rank\" doesn't exist yet\n",
    "query = \"\"\"\n",
    "rollback;\n",
    "SELECT *, rank() OVER my_window as the_rank FROM sale\n",
    "  WINDOW my_window AS (PARTITION BY dept ORDER BY salary DESC)\n",
    "  WHERE the_rank < 3;\n",
    "\"\"\"\n",
    "\n",
    "cursor.execute(query)\n",
    "cursor.fetchall()"
   ]
  },
  {
   "cell_type": "code",
   "execution_count": null,
   "metadata": {},
   "outputs": [],
   "source": [
    "# fix with a subquery\n",
    "query = \"\"\"\n",
    "rollback;\n",
    "SELECT * FROM\n",
    " (SELECT *, rank() OVER my_window as the_rank FROM sale\n",
    "      WINDOW my_window AS (PARTITION BY dept ORDER BY salary DESC)\n",
    "  ) AS ordered\n",
    "  WHERE ordered.the_rank < 3;\n",
    "\"\"\"\n",
    "\n",
    "cursor.execute(query)\n",
    "cursor.fetchall()"
   ]
  },
  {
   "cell_type": "markdown",
   "metadata": {},
   "source": [
    "### cumsum()\n",
    "\n",
    "Let's look at the cumulative sum of salary, from smallest to largest"
   ]
  },
  {
   "cell_type": "code",
   "execution_count": null,
   "metadata": {},
   "outputs": [],
   "source": [
    "query = \"\"\"\n",
    "rollback;\n",
    "SELECT *, sum(salary) OVER my_window FROM sale\n",
    "    WINDOW my_window AS (PARTITION BY dept ORDER BY salary DESC)\n",
    "\"\"\"\n",
    "\n",
    "cursor.execute(query)\n",
    "cursor.fetchall()"
   ]
  },
  {
   "cell_type": "code",
   "execution_count": null,
   "metadata": {},
   "outputs": [],
   "source": [
    "query = \"\"\"\n",
    "rollback;\n",
    "SELECT *, CASE WHEN dept='sales' THEN 1 ELSE 0 END AS front_line FROM sale;\n",
    "\"\"\"\n",
    "\n",
    "cursor.execute(query)\n",
    "cursor.fetchall()"
   ]
  },
  {
   "cell_type": "code",
   "execution_count": null,
   "metadata": {},
   "outputs": [],
   "source": []
  }
 ],
 "metadata": {
  "kernelspec": {
   "display_name": "Python 3",
   "language": "python",
   "name": "python3"
  },
  "language_info": {
   "codemirror_mode": {
    "name": "ipython",
    "version": 3
   },
   "file_extension": ".py",
   "mimetype": "text/x-python",
   "name": "python",
   "nbconvert_exporter": "python",
   "pygments_lexer": "ipython3",
   "version": "3.7.1"
  }
 },
 "nbformat": 4,
 "nbformat_minor": 2
}
